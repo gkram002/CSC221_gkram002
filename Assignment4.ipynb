{
  "nbformat": 4,
  "nbformat_minor": 0,
  "metadata": {
    "colab": {
      "provenance": [],
      "authorship_tag": "ABX9TyOGAFnmH2UoPIwi1QHNS0DS",
      "include_colab_link": true
    },
    "kernelspec": {
      "name": "python3",
      "display_name": "Python 3"
    },
    "language_info": {
      "name": "python"
    }
  },
  "cells": [
    {
      "cell_type": "markdown",
      "metadata": {
        "id": "view-in-github",
        "colab_type": "text"
      },
      "source": [
        "<a href=\"https://colab.research.google.com/github/gkram002/CSC221_gkram002/blob/main/Assignment4.ipynb\" target=\"_parent\"><img src=\"https://colab.research.google.com/assets/colab-badge.svg\" alt=\"Open In Colab\"/></a>"
      ]
    },
    {
      "cell_type": "code",
      "execution_count": null,
      "metadata": {
        "colab": {
          "base_uri": "https://localhost:8080/"
        },
        "id": "zTiPZGX_GSW9",
        "outputId": "6d3c52d8-8f4c-4d90-d825-0a23c6f78f9d"
      },
      "outputs": [
        {
          "output_type": "stream",
          "name": "stdout",
          "text": [
            "jeremy\n",
            "andrew\n",
            "gerald\n"
          ]
        }
      ],
      "source": [
        "#3.1 names list\n",
        "\n",
        "names = [\"jeremy\", \"andrew\", \"gerald\"]\n",
        "\n",
        "print (names[0])\n",
        "print (names[1])\n",
        "print (names[2])"
      ]
    },
    {
      "cell_type": "code",
      "source": [
        "#3.2 greet the names list\n",
        "\n",
        "names = [\"jeremy\", \"andrew\", \"gerald\"]\n",
        "\n",
        "message = (f\"Hello, {names[0].title()}\")\n",
        "print(message)\n",
        "msg = (f\"Howdy, {names[1].title()}\")\n",
        "print(message)\n",
        "message = (f\"Whats up, {names[2].title()}\")\n",
        "print(message)"
      ],
      "metadata": {
        "colab": {
          "base_uri": "https://localhost:8080/"
        },
        "id": "Sw60a2piGWrm",
        "outputId": "f3558221-d81d-43f4-87c5-31469f4e8dcf"
      },
      "execution_count": null,
      "outputs": [
        {
          "output_type": "stream",
          "name": "stdout",
          "text": [
            "Hello, Jeremy\n",
            "Hello, Jeremy\n",
            "Whats up, Gerald\n"
          ]
        }
      ]
    },
    {
      "cell_type": "code",
      "source": [
        "#3.3 transportation list\n",
        "names = [\"Honda Civic\", \"Kia Soul\", \"Jeep Cherokee\"]\n",
        "\n",
        "message = (f\"I want a {names[0].title()}\")\n",
        "print(message)\n",
        "message = (f\"I need a {names[1].title()}\")\n",
        "print(message)\n",
        "message = (f\"My favorite car is a {names[2].title()}\")\n",
        "print(message)\n"
      ],
      "metadata": {
        "colab": {
          "base_uri": "https://localhost:8080/"
        },
        "id": "2tS6FudnGZQv",
        "outputId": "07cb6131-2ca0-4901-a4e8-584f72087fc4"
      },
      "execution_count": null,
      "outputs": [
        {
          "output_type": "stream",
          "name": "stdout",
          "text": [
            "I want a Honda Civic\n",
            "I need a Kia Soul\n",
            "My favorite car is a Jeep Cherokee\n"
          ]
        }
      ]
    },
    {
      "cell_type": "code",
      "source": [
        "#3.4 guest list\n",
        "guests = ['the rock', 'teddy roosevelt', 'John Cena']\n",
        "\n",
        "name = guests[0].title()\n",
        "print(f\"{name}, please come to my dinner.\")\n",
        "name = guests[1].title()\n",
        "print(f\"{name}, please come to my dinner.\")\n",
        "name = guests[2].title()\n",
        "print(f\"{name}, please come to my dinner.\")"
      ],
      "metadata": {
        "colab": {
          "base_uri": "https://localhost:8080/"
        },
        "id": "w1uSn24JGbhp",
        "outputId": "c09b555d-8577-4672-b9c5-e91e00375f12"
      },
      "execution_count": null,
      "outputs": [
        {
          "output_type": "stream",
          "name": "stdout",
          "text": [
            "The Rock, please come to my dinner.\n",
            "Teddy Roosevelt, please come to my dinner.\n",
            "John Cena, please come to my dinner.\n"
          ]
        }
      ]
    },
    {
      "cell_type": "code",
      "source": [
        "#3.5 remove name from list and put new one in\n",
        "guests = ['the rock', 'teddy roosevelt', 'John Cena']\n",
        "\n",
        "name = guests[0].title()\n",
        "print(f\"{name}, please come to my dinner.\")\n",
        "name = guests[1].title()\n",
        "print(f\"{name}, please come to my dinner.\")\n",
        "name = guests[2].title()\n",
        "print(f\"{name}, please come to my dinner.\")\n",
        "\n",
        "name = guests[1].title()\n",
        "print(f\"\\nSorry, {name} can't make it to my dinner.\")\n",
        "del(guests[1])\n",
        "guests.insert(1, 'james hetfield')\n",
        "\n",
        "\n",
        "name = guests[0].title()\n",
        "print(f\"\\n{name}, please come to my dinner.\")\n",
        "name = guests[1].title()\n",
        "print(f\"{name}, please come to my dinner.\")\n",
        "name = guests[2].title()\n",
        "print(f\"{name}, please come to my dinner.\")"
      ],
      "metadata": {
        "colab": {
          "base_uri": "https://localhost:8080/"
        },
        "id": "UrJ0H0X6Gdje",
        "outputId": "daa2fa8a-2aa9-410f-8ad1-f1bbe368606a"
      },
      "execution_count": null,
      "outputs": [
        {
          "output_type": "stream",
          "name": "stdout",
          "text": [
            "The Rock, please come to my dinner.\n",
            "Teddy Roosevelt, please come to my dinner.\n",
            "John Cena, please come to my dinner.\n",
            "\n",
            "Sorry, Teddy Roosevelt can't make it to my dinner.\n",
            "\n",
            "The Rock, please come to my dinner.\n",
            "James Hetfield, please come to my dinner.\n",
            "John Cena, please come to my dinner.\n"
          ]
        }
      ]
    },
    {
      "cell_type": "code",
      "source": [
        "#3.6 invite more people\n",
        "guests = ['the rock', 'teddy roosevelt', 'John Cena']\n",
        "\n",
        "name = guests[0].title()\n",
        "print(f\"{name}, please come to my dinner.\")\n",
        "name = guests[1].title()\n",
        "print(f\"{name}, please come to my dinner.\")\n",
        "name = guests[2].title()\n",
        "print(f\"{name}, please come to my dinner.\")\n",
        "\n",
        "name = guests[1].title()\n",
        "print(f\"\\nSorry, {name} can't make it to my dinner.\")\n",
        "del(guests[1])\n",
        "guests.insert(1, 'james hetfield')\n",
        "\n",
        "\n",
        "name = guests[0].title()\n",
        "print(f\"\\n{name}, please come to my dinner.\")\n",
        "name = guests[1].title()\n",
        "print(f\"{name}, please come to my dinner.\")\n",
        "name = guests[2].title()\n",
        "print(f\"{name}, please come to my dinner.\")\n",
        "\n",
        "\n",
        "print(\"\\n We found a bigger table we cant invite more people\")\n",
        "guests.insert(0, 'bob marley')\n",
        "guests.insert(2, 'queen elizabeth II')\n",
        "guests.append('josh allen')\n",
        "\n",
        "name = guests[0].title()\n",
        "print(f\"{name}, please come to my dinner.\")\n",
        "name = guests[1].title()\n",
        "print(f\"{name}, please come to my dinner.\")\n",
        "name = guests[2].title()\n",
        "print(f\"{name}, please come to my dinner.\")\n",
        "name = guests[3].title()\n",
        "print(f\"{name}, please come to my dinner.\")\n",
        "name = guests[4].title()\n",
        "print(f\"{name}, please come to my dinner.\")\n",
        "name = guests[5].title()\n",
        "print(f\"{name}, please come to my dinner.\")\n",
        "\n"
      ],
      "metadata": {
        "colab": {
          "base_uri": "https://localhost:8080/"
        },
        "id": "b1qF3aVMGfKf",
        "outputId": "d634a134-6920-4332-b989-df3bba1fcc71"
      },
      "execution_count": null,
      "outputs": [
        {
          "output_type": "stream",
          "name": "stdout",
          "text": [
            "The Rock, please come to my dinner.\n",
            "Teddy Roosevelt, please come to my dinner.\n",
            "John Cena, please come to my dinner.\n",
            "\n",
            "Sorry, Teddy Roosevelt can't make it to my dinner.\n",
            "\n",
            "The Rock, please come to my dinner.\n",
            "James Hetfield, please come to my dinner.\n",
            "John Cena, please come to my dinner.\n",
            "\n",
            " We found a bigger table we cant invite more people\n",
            "Bob Marley, please come to my dinner.\n",
            "The Rock, please come to my dinner.\n",
            "Queen Elizabeth Ii, please come to my dinner.\n",
            "James Hetfield, please come to my dinner.\n",
            "John Cena, please come to my dinner.\n",
            "Josh Allen, please come to my dinner.\n"
          ]
        }
      ]
    },
    {
      "cell_type": "code",
      "source": [
        "#3.7 shrink the guests list and list who is left and 3.9 with len\n",
        "guests = ['the rock', 'teddy roosevelt', 'John Cena']\n",
        "\n",
        "name = guests[0].title()\n",
        "print(f\"{name}, please come to my dinner.\")\n",
        "name = guests[1].title()\n",
        "print(f\"{name}, please come to my dinner.\")\n",
        "name = guests[2].title()\n",
        "print(f\"{name}, please come to my dinner.\")\n",
        "\n",
        "name = guests[1].title()\n",
        "print(f\"\\nSorry, {name} can't make it to my dinner.\")\n",
        "del(guests[1])\n",
        "guests.insert(1, 'james hetfield')\n",
        "\n",
        "\n",
        "name = guests[0].title()\n",
        "print(f\"\\n{name}, please come to my dinner.\")\n",
        "name = guests[1].title()\n",
        "print(f\"{name}, please come to my dinner.\")\n",
        "name = guests[2].title()\n",
        "print(f\"{name}, please come to my dinner.\")\n",
        "\n",
        "\n",
        "print(\"\\n We found a bigger table we cant invite more people\")\n",
        "guests.insert(0, 'bob marley')\n",
        "guests.insert(2, 'queen elizabeth II')\n",
        "guests.append('josh allen')\n",
        "\n",
        "name = guests[0].title()\n",
        "print(f\"{name}, please come to my dinner.\")\n",
        "name = guests[1].title()\n",
        "print(f\"{name}, please come to my dinner.\")\n",
        "name = guests[2].title()\n",
        "print(f\"{name}, please come to my dinner.\")\n",
        "name = guests[3].title()\n",
        "print(f\"{name}, please come to my dinner.\")\n",
        "name = guests[4].title()\n",
        "print(f\"{name}, please come to my dinner.\")\n",
        "name = guests[5].title()\n",
        "print(f\"{name}, please come to my dinner.\")\n",
        "\n",
        "\n",
        "print(\"\\nSorry, we can only invite two people to dinner unfortunately.\")\n",
        "name = guests.pop()\n",
        "print(f\"Sorry, {name.title()} there's no room\")\n",
        "name = guests.pop()\n",
        "print(f\"Sorry, {name.title()} there's no room\")\n",
        "name = guests.pop()\n",
        "print(f\"Sorry, {name.title()} there's no room\")\n",
        "name = guests.pop()\n",
        "print(f\"Sorry, {name.title()} there's no room\")\n",
        "\n",
        "\n",
        "name = guests[0].title()\n",
        "print(f\"{name}, please come to my dinner.\")\n",
        "name = guests[1].title()\n",
        "print(f\"{name}, please come to my dinner.\")\n",
        "\n",
        "print(len(guests))\n",
        "del(guests[0])\n",
        "del(guests[0])\n",
        "print(guests)"
      ],
      "metadata": {
        "colab": {
          "base_uri": "https://localhost:8080/"
        },
        "id": "12MxdxmQHApu",
        "outputId": "f4af90d5-5714-48b4-e179-c4ffe5a6602c"
      },
      "execution_count": null,
      "outputs": [
        {
          "output_type": "stream",
          "name": "stdout",
          "text": [
            "The Rock, please come to my dinner.\n",
            "Teddy Roosevelt, please come to my dinner.\n",
            "John Cena, please come to my dinner.\n",
            "\n",
            "Sorry, Teddy Roosevelt can't make it to my dinner.\n",
            "\n",
            "The Rock, please come to my dinner.\n",
            "James Hetfield, please come to my dinner.\n",
            "John Cena, please come to my dinner.\n",
            "\n",
            " We found a bigger table we cant invite more people\n",
            "Bob Marley, please come to my dinner.\n",
            "The Rock, please come to my dinner.\n",
            "Queen Elizabeth Ii, please come to my dinner.\n",
            "James Hetfield, please come to my dinner.\n",
            "John Cena, please come to my dinner.\n",
            "Josh Allen, please come to my dinner.\n",
            "\n",
            "Sorry, we can only invite two people to dinner unfortunately.\n",
            "Sorry, Josh Allen there's no room\n",
            "Sorry, John Cena there's no room\n",
            "Sorry, James Hetfield there's no room\n",
            "Sorry, Queen Elizabeth Ii there's no room\n",
            "Bob Marley, please come to my dinner.\n",
            "The Rock, please come to my dinner.\n",
            "2\n",
            "[]\n"
          ]
        }
      ]
    },
    {
      "cell_type": "code",
      "source": [
        "#3.8 seeing the world\n",
        "locations = ['Puerto Rico', 'Machu Pichu','K2', 'Australia', 'Grand Canyon']\n",
        "\n",
        "print('the Original Order')\n",
        "print(locations)\n",
        "\n",
        "print('\\n the Alphabetical Order')\n",
        "print(sorted(locations))\n",
        "\n",
        "print('\\n the Original Order')\n",
        "print(sorted(locations))\n",
        "\n",
        "print('\\n Reverse Alphabetical Order')\n",
        "print(sorted(locations, reverse = True))\n",
        "\n",
        "print('\\n the Original Order')\n",
        "print(sorted(locations))\n",
        "\n",
        "print('\\n Reversed Order')\n",
        "locations.reverse()\n",
        "print(locations)\n",
        "\n",
        "print('\\n the Alphabetical Order')\n",
        "print(sorted(locations))\n",
        "\n",
        "print('\\n Reverse Alphabetical Order')\n",
        "print(sorted(locations, reverse = True))"
      ],
      "metadata": {
        "colab": {
          "base_uri": "https://localhost:8080/"
        },
        "id": "40L78XkoHVpB",
        "outputId": "37677473-3327-40e1-db6a-c0003a91678e"
      },
      "execution_count": null,
      "outputs": [
        {
          "output_type": "stream",
          "name": "stdout",
          "text": [
            "the Original Order\n",
            "['Puerto Rico', 'Machu Pichu', 'K2', 'Australia', 'Grand Canyon']\n",
            "\n",
            " the Alphabetical Order\n",
            "['Australia', 'Grand Canyon', 'K2', 'Machu Pichu', 'Puerto Rico']\n",
            "\n",
            " the Original Order\n",
            "['Australia', 'Grand Canyon', 'K2', 'Machu Pichu', 'Puerto Rico']\n",
            "\n",
            " Reverse Alphabetical Order\n",
            "['Puerto Rico', 'Machu Pichu', 'K2', 'Grand Canyon', 'Australia']\n",
            "\n",
            " the Original Order\n",
            "['Australia', 'Grand Canyon', 'K2', 'Machu Pichu', 'Puerto Rico']\n",
            "\n",
            " Reversed Order\n",
            "['Grand Canyon', 'Australia', 'K2', 'Machu Pichu', 'Puerto Rico']\n",
            "\n",
            " the Alphabetical Order\n",
            "['Australia', 'Grand Canyon', 'K2', 'Machu Pichu', 'Puerto Rico']\n",
            "\n",
            " Reverse Alphabetical Order\n",
            "['Puerto Rico', 'Machu Pichu', 'K2', 'Grand Canyon', 'Australia']\n"
          ]
        }
      ]
    },
    {
      "cell_type": "code",
      "source": [
        "#3.10 make a program using all the functions learned. I created a list of vacation spots\n",
        "vacation = ['Puerto Rico', 'Australia', 'Mexico', 'Canada', 'Thailand']\n",
        "print(\"This is the list from most expensive to cheapest for vacation spots\")\n",
        "print(sorted(vacation))\n",
        "print(\"\\nThis is the list from cheapest to most costly for vacation spots\")\n",
        "print(sorted(vacation, reverse = True))\n",
        "\n",
        "print('\\nYou asked for another location')\n",
        "vacation.insert(3, 'Bahamas')\n",
        "print(vacation)\n",
        "\n",
        "print('\\nYou asked for another location again')\n",
        "vacation.append('Italy')\n",
        "print(vacation)\n",
        "\n",
        "print('You asked how many options have been given')\n",
        "print(len(vacation))\n",
        "\n",
        "print('You asked to remove a spot the last spot as it was too expensive')\n",
        "vacation.pop()\n",
        "print(vacation)\n",
        "\n",
        "print('you asked me to remove Australia')\n",
        "del(vacation[1])\n",
        "print(vacation)\n",
        "\n",
        "print(sorted(vacation))\n",
        "print(len(vacation))\n",
        "print(\"Out of the 5 options you have left I have organized from most expensive to least expensive\")"
      ],
      "metadata": {
        "colab": {
          "base_uri": "https://localhost:8080/"
        },
        "id": "Vci8D9zpK7G5",
        "outputId": "febc0c69-0da8-4e17-9d8d-7af4579f6757"
      },
      "execution_count": null,
      "outputs": [
        {
          "output_type": "stream",
          "name": "stdout",
          "text": [
            "This is the list from most expensive to cheapest for vacation spots\n",
            "['Australia', 'Canada', 'Mexico', 'Puerto Rico', 'Thailand']\n",
            "\n",
            "This is the list from cheapest to most costly for vacation spots\n",
            "['Thailand', 'Puerto Rico', 'Mexico', 'Canada', 'Australia']\n",
            "\n",
            "You asked for another location\n",
            "['Puerto Rico', 'Australia', 'Mexico', 'Bahamas', 'Canada', 'Thailand']\n",
            "\n",
            "You asked for another location again\n",
            "['Puerto Rico', 'Australia', 'Mexico', 'Bahamas', 'Canada', 'Thailand', 'Italy']\n",
            "You asked how many options have been given\n",
            "7\n",
            "You asked to remove a spot the last spot as it was too expensive\n",
            "['Puerto Rico', 'Australia', 'Mexico', 'Bahamas', 'Canada', 'Thailand']\n",
            "you asked me to remove Australia\n",
            "['Puerto Rico', 'Mexico', 'Bahamas', 'Canada', 'Thailand']\n",
            "['Bahamas', 'Canada', 'Mexico', 'Puerto Rico', 'Thailand']\n",
            "5\n",
            "Out of the 5 options you have left I have organized from most expensive to least expensive\n"
          ]
        }
      ]
    },
    {
      "cell_type": "code",
      "source": [
        "#print cubes of numbers divisible by 7 between 60 and 85\n",
        "for number in range(60, 85):\n",
        "  if number % 7 == 0:\n",
        "    cube = number ** 3\n",
        "    print(f'The cube of {number}  is {cube}')"
      ],
      "metadata": {
        "colab": {
          "base_uri": "https://localhost:8080/"
        },
        "id": "gfQ2FVs0PtPn",
        "outputId": "fb16d6f4-3e92-419f-ebd1-44bbf07d8932"
      },
      "execution_count": 88,
      "outputs": [
        {
          "output_type": "stream",
          "name": "stdout",
          "text": [
            "The cube of 63  is 250047\n",
            "The cube of 70  is 343000\n",
            "The cube of 77  is 456533\n",
            "The cube of 84  is 592704\n"
          ]
        }
      ]
    },
    {
      "cell_type": "code",
      "source": [
        "# solve for y= 7.4x +51\n",
        "\n",
        "x_val = [40, 50, 120, -8, 6]\n",
        "for x in x_val:\n",
        "  y = 7.4 * x + 51\n",
        "  print(f'When x = {x}, the y = {y}')\n",
        "\n",
        ""
      ],
      "metadata": {
        "colab": {
          "base_uri": "https://localhost:8080/"
        },
        "id": "Gw1spxGrVKnx",
        "outputId": "bba910f7-3c79-4c31-c9fd-73b00b620ba9"
      },
      "execution_count": 98,
      "outputs": [
        {
          "output_type": "stream",
          "name": "stdout",
          "text": [
            "When x = 40, the y = 347.0\n",
            "When x = 50, the y = 421.0\n",
            "When x = 120, the y = 939.0\n",
            "When x = -8, the y = -8.200000000000003\n",
            "When x = 6, the y = 95.4\n"
          ]
        }
      ]
    }
  ]
}