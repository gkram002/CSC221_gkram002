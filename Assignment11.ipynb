{
  "nbformat": 4,
  "nbformat_minor": 0,
  "metadata": {
    "colab": {
      "provenance": [],
      "authorship_tag": "ABX9TyPeyvp2lAcgHCc4QdOyrfcN",
      "include_colab_link": true
    },
    "kernelspec": {
      "name": "python3",
      "display_name": "Python 3"
    },
    "language_info": {
      "name": "python"
    }
  },
  "cells": [
    {
      "cell_type": "markdown",
      "metadata": {
        "id": "view-in-github",
        "colab_type": "text"
      },
      "source": [
        "<a href=\"https://colab.research.google.com/github/gkram002/CSC221_gkram002/blob/main/Assignment11.ipynb\" target=\"_parent\"><img src=\"https://colab.research.google.com/assets/colab-badge.svg\" alt=\"Open In Colab\"/></a>"
      ]
    },
    {
      "cell_type": "markdown",
      "source": [
        "#dogs"
      ],
      "metadata": {
        "id": "TR4NcAEh4dc_"
      }
    },
    {
      "cell_type": "code",
      "source": [
        "class Dog:\n",
        "  def __init__(self, name, age):\n",
        "    self.name = name\n",
        "    self.age = age\n",
        "#sit function\n",
        "  def sit(self):\n",
        "     print(f\"{self.name} will now sit\")\n",
        "#roll over function\n",
        "  def roll_over(self):\n",
        "     print(f\"{self.name} rolled over for you!\")\n",
        "#input\n",
        "my_dog = Dog(\"Willie\", 6)\n",
        "your_dog = Dog(\"Hobbs\", 8)\n",
        "#my dog print\n",
        "print(f\"My dog's name is {my_dog.name}\")\n",
        "print(f\"My dog's age is {my_dog.age}\")\n",
        "my_dog.sit()\n",
        "\n",
        "#your dog print\n",
        "print(f\"Your dog's name is {your_dog.name}\")\n",
        "print(f\"Your dog's age is {your_dog.age}\")\n",
        "your_dog.roll_over()"
      ],
      "metadata": {
        "colab": {
          "base_uri": "https://localhost:8080/"
        },
        "id": "7ADSryek4hAf",
        "outputId": "cb218da8-89eb-49fd-d4a4-b29aad609298"
      },
      "execution_count": 6,
      "outputs": [
        {
          "output_type": "stream",
          "name": "stdout",
          "text": [
            "My dog's name is Willie\n",
            "My dog's age is 6\n",
            "Willie will now sit\n",
            "Your dog's name is Hobbs\n",
            "Your dog's age is 8\n",
            "Hobbs rolled over for you!\n"
          ]
        }
      ]
    },
    {
      "cell_type": "markdown",
      "source": [
        "#Cars"
      ],
      "metadata": {
        "id": "awRemROv5-Pp"
      }
    },
    {
      "cell_type": "code",
      "source": [
        "class Car:\n",
        "  def __init__(self, make, model, year):\n",
        "    self.make = make\n",
        "    self.model = model\n",
        "    self.year = year\n",
        "    self.odometer_reading = 0\n",
        "#get name from year make and model\n",
        "  def get_descriptive_name(self):\n",
        "    long_name = f\"{self.year} {self.make} {self.model}\"\n",
        "    return long_name.title()\n",
        "\n",
        "  #function read odometer\n",
        "  def read_odometer(self):\n",
        "    print(f\"This car has {self.odometer_reading} miles on it\")\n",
        "\n",
        "#function update odometer\n",
        "  def update_odometer(self, mileage):\n",
        "#set odometer reading to value reject if it rolls back\n",
        "    if mileage >= self.odometer_reading:\n",
        "      self.odometer_reading = mileage\n",
        "    else:\n",
        "      print(\"you cant roll back the odomter!\")\n",
        "  #add more to the odomter incrememnt function\n",
        "  def increment_odometer(self, miles):\n",
        "    self.odometer_reading += miles\n",
        "\n",
        "\n",
        "\n",
        "#car make model and year\n",
        "my_new_car = Car('Audi', \"a4\", 2024)\n",
        "print(my_new_car.get_descriptive_name())\n",
        "#new odometer reading print it\n",
        "my_new_car.update_odometer(23_000)\n",
        "my_new_car.read_odometer()\n",
        "\n",
        "\n",
        "my_new_car.increment_odometer(10_090)\n",
        "my_new_car.read_odometer()\n",
        "\n",
        "#battery class\n",
        "\n",
        "class Battery:\n",
        "\n",
        "\n",
        "  def __init__(self, battery_size=40):\n",
        "    self.battery_size = battery_size\n",
        "\n",
        "  def describe_battery(self):\n",
        "    print(f\"this car has a {self.battery_size}-kWh battery\")\n",
        "\n",
        "  def get_range(self):\n",
        "    if self.battery_size == 40:\n",
        "      range = 150\n",
        "    elif self.battery_size == 65:\n",
        "      range = 225\n",
        "\n",
        "    print(f\"This car can go about {range} miles on full charge\")\n",
        "\n",
        "#electric car class\n",
        "class ElectricCar(Car):\n",
        "\n",
        "  def __init__(self, make, model, year):\n",
        "      super().__init__(make, model, year)\n",
        "      self.battery = Battery()\n",
        "\n",
        "  def describe_battery(self):\n",
        "    print(f\"This car has a {self.battery_size}-kWh battery\")\n",
        "\n",
        "  def fill_gas(self):\n",
        "    print(\"this car doesn't use gas\")\n",
        "\n",
        "\n",
        "my_leaf = ElectricCar('nissan', 'leaf', 2024)\n",
        "print(my_leaf.get_descriptive_name())\n",
        "my_leaf.battery.describe_battery()\n",
        "my_leaf.battery.get_range()"
      ],
      "metadata": {
        "colab": {
          "base_uri": "https://localhost:8080/"
        },
        "id": "5twD03fK7eGj",
        "outputId": "7fd37919-17c3-468b-f939-e6fe0368ea79"
      },
      "execution_count": 28,
      "outputs": [
        {
          "output_type": "stream",
          "name": "stdout",
          "text": [
            "2024 Audi A4\n",
            "This car has 23000 miles on it\n",
            "This car has 33090 miles on it\n",
            "2024 Nissan Leaf\n",
            "this car has a 40-kWh battery\n",
            "This car can go about 150 miles on full charge\n"
          ]
        }
      ]
    },
    {
      "cell_type": "code",
      "source": [],
      "metadata": {
        "id": "-SwaB9WeBCH9"
      },
      "execution_count": null,
      "outputs": []
    },
    {
      "cell_type": "markdown",
      "source": [
        "# 9.1"
      ],
      "metadata": {
        "id": "w27SWAjy9Kr3"
      }
    },
    {
      "cell_type": "code",
      "source": [
        "class Restaurant:\n",
        "#initialize\n",
        "  def __init__(self, name, cuisine_type):\n",
        "    self.name = name.title()\n",
        "    self.cuisine_type = cuisine_type\n",
        "\n",
        "#describe restaurant function\n",
        "  def describe_restaurant(self):\n",
        "    promo = (f\"{self.name} dishes out amazing {self.cuisine_type}\")\n",
        "    print(promo)\n",
        "#open restaurant funciton\n",
        "  def open_restaurant(self):\n",
        "    open = (f\"{self.name} is now open for business!\")\n",
        "    print(open)\n",
        "\n",
        "#test\n",
        "restaurant = Restaurant(\"Pizza Bono\", 'pizza')\n",
        "print(restaurant.name)\n",
        "print(restaurant.cuisine_type)\n",
        "\n",
        "restaurant.describe_restaurant()\n",
        "restaurant.open_restaurant()"
      ],
      "metadata": {
        "colab": {
          "base_uri": "https://localhost:8080/"
        },
        "id": "G2CFD_4aBs1C",
        "outputId": "b96fc8ab-0083-47b0-a1b1-7be3c9f82c73"
      },
      "execution_count": 64,
      "outputs": [
        {
          "output_type": "stream",
          "name": "stdout",
          "text": [
            "Pizza Bono\n",
            "pizza\n",
            "Pizza Bono dishes out amazing pizza\n",
            "Pizza Bono is now open for business!\n"
          ]
        }
      ]
    },
    {
      "cell_type": "code",
      "source": [],
      "metadata": {
        "id": "NUJlx0CnCKuO"
      },
      "execution_count": null,
      "outputs": []
    },
    {
      "cell_type": "markdown",
      "source": [
        "# 9.2"
      ],
      "metadata": {
        "id": "BIUlA0IiCvrO"
      }
    },
    {
      "cell_type": "code",
      "source": [
        "class Restaurant:\n",
        "#initalize\n",
        "  def __init__(self, name, cuisine_type):\n",
        "    self.name = name.title()\n",
        "    self.cuisine_type = cuisine_type\n",
        "\n",
        "#describer restaurant function\n",
        "  def describe_restaurant(self):\n",
        "    promo = (f\"{self.name} dishes out amazing {self.cuisine_type}\")\n",
        "    print(f'\\n{promo}')\n",
        "#open restaurant funciton\n",
        "  def open_restaurant(self):\n",
        "    open = (f\"{self.name} is now open for business!\")\n",
        "    print(open)\n",
        "\n",
        "#tests\n",
        "bono = Restaurant(\"Pizza Bono\", 'pizza')\n",
        "bono.describe_restaurant()\n",
        "restaurant.open_restaurant()\n",
        "\n",
        "aleka = Restaurant(\"Aleka's\", 'greek food')\n",
        "aleka.describe_restaurant()\n",
        "aleka.open_restaurant()\n",
        "\n",
        "yama = Restaurant(\"Yama Sushi\", 'sushi')\n",
        "yama.describe_restaurant()\n",
        "yama.open_restaurant()"
      ],
      "metadata": {
        "colab": {
          "base_uri": "https://localhost:8080/"
        },
        "id": "ITB5cduvCye9",
        "outputId": "c075e9d0-75d9-42f4-d586-27814c0a3229"
      },
      "execution_count": 58,
      "outputs": [
        {
          "output_type": "stream",
          "name": "stdout",
          "text": [
            "\n",
            "Pizza Bono dishes out amazing pizza\n",
            "Pizza Bono is now open for business!\n",
            "\n",
            "Aleka'S dishes out amazing greek food\n",
            "Aleka'S is now open for business!\n",
            "\n",
            "Yama Sushi dishes out amazing sushi\n",
            "Yama Sushi is now open for business!\n"
          ]
        }
      ]
    },
    {
      "cell_type": "markdown",
      "source": [
        "# 9.3"
      ],
      "metadata": {
        "id": "QCBiQmWUDvQL"
      }
    },
    {
      "cell_type": "code",
      "source": [
        "class User:\n",
        "\n",
        "#init\n",
        "  def __init__(self, first, last, username, email):\n",
        "    self.first = first\n",
        "    self.last = last\n",
        "    self.username = username\n",
        "    self.email = email\n",
        "#describe the user\n",
        "  def describe_user(self):\n",
        "    print (f\" First name: {self.first}\")\n",
        "    print (f\" Last name: {self.last}\")\n",
        "    print (f\" Username: {self.username}\")\n",
        "    print (f\" Email address: {self.email}\")\n",
        "\n",
        "#greet the user\n",
        "  def greet_user(self):\n",
        "    print(f\"Hello {self.first}, or should I say {self.username}\")\n",
        "\n",
        "#tests\n",
        "graham = User(\"graham\", \"kramer\", \"gkram\", \"grahamkramer@randomidk.com\")\n",
        "graham.describe_user()\n",
        "graham.greet_user()\n",
        "\n",
        "\n",
        "abraham = User(\"Abraham\", \"Lincoln\", \"AbeLincoln\", \"16thpresident@sayswho.com\")\n",
        "abraham.describe_user()\n",
        "abraham.greet_user()"
      ],
      "metadata": {
        "colab": {
          "base_uri": "https://localhost:8080/"
        },
        "id": "6astE_5hDy3X",
        "outputId": "ac819c99-cc00-4399-8b64-2bbf8662ab90"
      },
      "execution_count": 63,
      "outputs": [
        {
          "output_type": "stream",
          "name": "stdout",
          "text": [
            " First name: graham\n",
            " Last name: kramer\n",
            " Username: gkram\n",
            " Email address: grahamkramer@randomidk.com\n",
            "Hello graham, or should I say gkram\n",
            " First name: Abraham\n",
            " Last name: Lincoln\n",
            " Username: AbeLincoln\n",
            " Email address: 16thpresident@sayswho.com\n",
            "Hello Abraham, or should I say AbeLincoln\n"
          ]
        }
      ]
    },
    {
      "cell_type": "markdown",
      "source": [
        "# 9.6"
      ],
      "metadata": {
        "id": "BxPdCJ08FnTj"
      }
    },
    {
      "cell_type": "code",
      "source": [
        "from ast import increment_lineno\n",
        "class Restuarant:\n",
        "#initialize\n",
        "  def __init__(self, name, cuisine_type):\n",
        "    self.name = name.title()\n",
        "    self.cuisine_type = cuisine_type\n",
        "\n",
        "#describe restaurant function\n",
        "  def describe_restaurant(self):\n",
        "    promo = (f\"{self.name} dishes out amazing {self.cuisine_type}\")\n",
        "    print(promo)\n",
        "#open restaurant funciton\n",
        "  def open_restaurant(self):\n",
        "    open = (f\"{self.name} is now open for business!\")\n",
        "    print(open)\n",
        "\n",
        "  def number_served(self, amount_served):\n",
        "    self.amount_served = amount_served\n",
        "\n",
        "  def increment_number_served(self, more_served):\n",
        "    self.amount_served += more_served\n",
        "\n",
        "\n",
        "class IceCreamStand(Restaurant):\n",
        "\n",
        "    def __init__(self, name, cuisine_type='ice cream'):\n",
        "        super().__init__(name, cuisine_type)\n",
        "        self.ice_cream_flavors = []\n",
        "\n",
        "    def show_flavors(self):\n",
        "        print(\"We only  have the following flavors available at the moment\")\n",
        "        for flavor in self.ice_cream_flavors:\n",
        "            print(f\"{flavor.title()}\")\n",
        "\n",
        "\n",
        "sherbet_land = IceCreamStand('Sherbet Land: Courtesy of Mario Kart Wii')\n",
        "sherbet_land.ice_cream_flavors = ['vanilla', 'chocolate', 'strawberry', \"mint\", \"rocky road\"]\n",
        "\n",
        "sherbet_land.describe_restaurant()\n",
        "sherbet_land.show_flavors()"
      ],
      "metadata": {
        "colab": {
          "base_uri": "https://localhost:8080/"
        },
        "id": "xafLDqI0Fojo",
        "outputId": "9fa967de-5cdb-4011-cb5d-5a08e2c8b9fc"
      },
      "execution_count": 76,
      "outputs": [
        {
          "output_type": "stream",
          "name": "stdout",
          "text": [
            "Sherbet Land: Courtesy Of Mario Kart Wii dishes out amazing ice cream\n",
            "we only  have the following flavors available at the moment\n",
            "Vanilla\n",
            "Chocolate\n",
            "Strawberry\n",
            "Mint\n",
            "Rocky Road\n"
          ]
        }
      ]
    },
    {
      "cell_type": "markdown",
      "source": [
        "#9.7"
      ],
      "metadata": {
        "id": "ywlfernGIuuv"
      }
    },
    {
      "cell_type": "code",
      "source": [
        "class User:\n",
        "\n",
        "#init\n",
        "  def __init__(self, first, last, username, email):\n",
        "    self.first = first\n",
        "    self.last = last\n",
        "    self.username = username\n",
        "    self.email = email\n",
        "#describe the user\n",
        "  def describe_user(self):\n",
        "    print (f\" First name: {self.first}\")\n",
        "    print (f\" Last name: {self.last}\")\n",
        "    print (f\" Username: {self.username}\")\n",
        "    print (f\" Email address: {self.email}\")\n",
        "\n",
        "#greet the user\n",
        "  def greet_user(self):\n",
        "    print(f\"Hello {self.first}, or should I say {self.username}\")\n",
        "\n",
        "\n",
        "class Admin(User):\n",
        "#makes a user with Admin priv\n",
        "\n",
        "  def __init__(self, first, last, username, email):\n",
        "    super().__init__(first, last, username, email)\n",
        "    self.priv = []\n",
        "\n",
        "  def show_priviledges(self):\n",
        "    print(\"Admin Priviledges: \")\n",
        "    for priviledge in self.priv:\n",
        "      print(f'{priviledge}')\n",
        "\n",
        "\n",
        "graham = Admin(\"graham\", \"kramer\", \"gkram\", \"grahamkramer@randomidk.com\")\n",
        "graham.describe_user()\n",
        "graham.greet_user()\n",
        "\n",
        "graham.priv = [\"can add post\", \"can delete post\", \"can drop the ban hammer on a user\", \"can reset account passwords\"]\n",
        "graham.show_priviledges()"
      ],
      "metadata": {
        "colab": {
          "base_uri": "https://localhost:8080/"
        },
        "id": "bgOIpMLPIwGL",
        "outputId": "ab6d0323-1e78-4197-cc75-e6741d8957fd"
      },
      "execution_count": 82,
      "outputs": [
        {
          "output_type": "stream",
          "name": "stdout",
          "text": [
            " First name: graham\n",
            " Last name: kramer\n",
            " Username: gkram\n",
            " Email address: grahamkramer@randomidk.com\n",
            "Hello graham, or should I say gkram\n",
            "Admin Priviledges: \n",
            "can add post\n",
            "can delete post\n",
            "can drop the ban hammer on a user\n",
            "can reset account passwords\n"
          ]
        }
      ]
    }
  ]
}