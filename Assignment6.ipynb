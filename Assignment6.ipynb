{
  "nbformat": 4,
  "nbformat_minor": 0,
  "metadata": {
    "colab": {
      "provenance": [],
      "authorship_tag": "ABX9TyOpTeiLCIekWDOX4pbNBjL1",
      "include_colab_link": true
    },
    "kernelspec": {
      "name": "python3",
      "display_name": "Python 3"
    },
    "language_info": {
      "name": "python"
    }
  },
  "cells": [
    {
      "cell_type": "markdown",
      "metadata": {
        "id": "view-in-github",
        "colab_type": "text"
      },
      "source": [
        "<a href=\"https://colab.research.google.com/github/gkram002/CSC221_gkram002/blob/main/Assignment6.ipynb\" target=\"_parent\"><img src=\"https://colab.research.google.com/assets/colab-badge.svg\" alt=\"Open In Colab\"/></a>"
      ]
    },
    {
      "cell_type": "code",
      "execution_count": 7,
      "metadata": {
        "colab": {
          "base_uri": "https://localhost:8080/"
        },
        "id": "kxoLaXBLymga",
        "outputId": "17d3b244-6fad-462a-dcca-1f7e6667b654"
      },
      "outputs": [
        {
          "output_type": "stream",
          "name": "stdout",
          "text": [
            "Is car == 'subaru'? I predict true\n",
            "True\n",
            "Is car == 'kia'? I predict false\n",
            "False\n",
            "Is car == 'subaru'? I predict false\n",
            "True\n",
            "Is car ==  audi'? I predict false\n",
            "False\n",
            "Is car == 'volvo'? I predict false\n",
            "False\n",
            "Is car == 'subaru'? I predict false\n",
            "True\n",
            "Is car == 'mystery machine'? I predict false\n",
            "False\n",
            "Is car == 'mitsubishi'? I predict false\n",
            "False\n",
            "Is car == 'subaru'? I predict false\n",
            "True\n",
            "Is car == 'GMC'? I predict false\n",
            "False\n",
            "Is car == 'subaru'? I predict false\n",
            "True\n"
          ]
        }
      ],
      "source": [
        "#5.1\n",
        "car = 'subaru'\n",
        "print(\"Is car == 'subaru'? I predict true\")\n",
        "print(car == 'subaru')\n",
        "\n",
        "\n",
        "print(\"Is car == 'kia'? I predict false\")\n",
        "print(car == 'kia')\n",
        "\n",
        "print(\"Is car == 'subaru'? I predict false\")\n",
        "print(car == 'subaru')\n",
        "\n",
        "print(\"Is car ==  audi'? I predict false\")\n",
        "print(car == 'audi')\n",
        "\n",
        "print(\"Is car == 'volvo'? I predict false\")\n",
        "print(car == 'volvo')\n",
        "\n",
        "print(\"Is car == 'subaru'? I predict false\")\n",
        "print(car == 'subaru')\n",
        "\n",
        "print(\"Is car == 'mystery machine'? I predict false\")\n",
        "print(car == 'mystery machine')\n",
        "\n",
        "print(\"Is car == 'mitsubishi'? I predict false\")\n",
        "print(car == 'mitsubishi')\n",
        "\n",
        "print(\"Is car == 'subaru'? I predict false\")\n",
        "print(car == 'subaru')\n",
        "\n",
        "print(\"Is car == 'GMC'? I predict false\")\n",
        "print(car == 'GMC')\n",
        "\n",
        "print(\"Is car == 'subaru'? I predict false\")\n",
        "print(car == 'subaru')\n",
        "\n"
      ]
    },
    {
      "cell_type": "code",
      "source": [
        "#5.2\n",
        "food_1 = 'pizza'\n",
        "food_2 = 'pizza'\n",
        "food_3 = 'sushi'\n",
        "\n",
        "if(food_1 == food_2):\n",
        "  print(\"theyre equal\")\n",
        "else:\n",
        "  print(\"they arent equal\")\n",
        "\n",
        "if(food_1 != food_3):\n",
        "  print(\"they arent equal\")\n",
        "else:\n",
        "  print(\"theyre equal\")\n",
        "\n",
        "num_1 = 22\n",
        "num_2 = 213\n",
        "\n",
        "if(num_1 == 22):\n",
        "  print(\"number equals 22\")\n",
        "\n",
        "if(num_1 == 213):\n",
        "  print(\"number equals 213\" )\n",
        "\n",
        "if(num_1 <= num_2):\n",
        "  print(\"num 1 is the smaller number\")\n",
        "\n",
        "if(num_1 >= num_2):\n",
        "  print(\"num 2 is the bigger number\")\n",
        "\n",
        "if(num_1 == 22 or num_2 <= 214):\n",
        "  print(\"winner\")\n",
        "\n",
        "if(num_1 == 22 and num_2 <= 214):\n",
        "  print(\"winners\")\n",
        "\n",
        "  pizzas = [\"supreme\", \"hawaiian\", \"cheese\"]\n",
        "  if \"supreme\" in pizzas:\n",
        "    print(\"Supreme is in the pizzas list\")\n",
        "\n",
        "  if \"Mushroom\" in pizzas:\n",
        "    print(\"Mushroom is not in the pizzas list\")\n",
        "    pizzas.append(\"mushroom\")\n",
        "\n",
        "\n"
      ],
      "metadata": {
        "colab": {
          "base_uri": "https://localhost:8080/"
        },
        "id": "7zrycKJV0Brm",
        "outputId": "48976db3-f432-457a-fccf-5685033c9d89"
      },
      "execution_count": 32,
      "outputs": [
        {
          "output_type": "stream",
          "name": "stdout",
          "text": [
            "theyre equal\n",
            "they arent equal\n",
            "number equals 22\n",
            "num 1 is the smaller number\n",
            "winner\n",
            "winners\n",
            "Supreme is in the pizzas list\n"
          ]
        }
      ]
    },
    {
      "cell_type": "code",
      "source": [
        "#5.3\n",
        "\n",
        "alien_color = \"yellow\"\n",
        "if alien_color == \"yellow\":\n",
        "  print(\"the alien is yellow you gained 5 points\")\n",
        "\n",
        "if alien_color == \"red\":\n",
        "  print(\"the alien is yellow you gained 5 points\")"
      ],
      "metadata": {
        "colab": {
          "base_uri": "https://localhost:8080/"
        },
        "id": "_E6_zycB3DOD",
        "outputId": "a1361592-c684-45bf-bd22-9e94db501623"
      },
      "execution_count": 34,
      "outputs": [
        {
          "output_type": "stream",
          "name": "stdout",
          "text": [
            "the alien is yellow you gained 5 points\n"
          ]
        }
      ]
    },
    {
      "cell_type": "code",
      "source": [
        "#5.6\n",
        "\n",
        "age = 19\n",
        "\n",
        "if age < 2:\n",
        "  print(\"youre just a baby\")\n",
        "elif age >= 2 and age < 4:\n",
        "  print(\"you are a toddler\")\n",
        "elif age >= 4 and age < 13:\n",
        "  print(\"you are a kid\")\n",
        "elif age >= 13 and age < 20:\n",
        "  print(\"you are a teenager\")\n",
        "elif age >= 20 and age < 65:\n",
        "  print(\"you are an adult\")\n",
        "else:\n",
        "  print(\"you are an elder\")"
      ],
      "metadata": {
        "colab": {
          "base_uri": "https://localhost:8080/"
        },
        "id": "leohFsW63zcT",
        "outputId": "c346a780-50b3-4c52-8b95-cda4a99e275c"
      },
      "execution_count": 39,
      "outputs": [
        {
          "output_type": "stream",
          "name": "stdout",
          "text": [
            "you are a teenager\n"
          ]
        }
      ]
    },
    {
      "cell_type": "code",
      "source": [
        "#5.13\n",
        "#how many suits do you have\n",
        "\n",
        "#asks user to input an integer for how many suits they own\n",
        "suits = int(input(\"how many suits do you own?\"))\n",
        "#if less than 5 print thats enough\n",
        "if suits < 5:\n",
        "  print(\"thats enough\")\n",
        "#else if amount is greater than or = to 5 and less than 10 print thats alot\n",
        "elif suits >= 5 and suits < 10:\n",
        "  print(\"you have alot of suits!\")\n",
        "#else if suits is > or = 10 and less than 14 print is that excessive?\n",
        "elif suits >= 10 and suits < 14:\n",
        "  print(\"Thats kinda excessive don't you think?\")\n",
        "#else if suits is greater than or equal too 14\n",
        "#and less than 20 you really do have too many\n",
        "elif suits >= 14 and suits < 20:\n",
        "  print(\"You really have too many\")\n",
        "#anything else your a snob and i dont think we can be friends anymore\n",
        "else:\n",
        "  print(\"I dont think we can be friends anymore thats too many\")\n"
      ],
      "metadata": {
        "colab": {
          "base_uri": "https://localhost:8080/"
        },
        "id": "vXKYBF9j4m-K",
        "outputId": "23c1a630-72fe-4e52-c0e6-7f20763f72b3"
      },
      "execution_count": 46,
      "outputs": [
        {
          "output_type": "stream",
          "name": "stdout",
          "text": [
            "how many suits do you own?22\n",
            "I dont think we can be friends anymore thats too many\n"
          ]
        }
      ]
    }
  ]
}