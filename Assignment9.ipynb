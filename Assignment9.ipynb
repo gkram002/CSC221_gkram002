{
  "nbformat": 4,
  "nbformat_minor": 0,
  "metadata": {
    "colab": {
      "provenance": [],
      "toc_visible": true,
      "authorship_tag": "ABX9TyPOKdNu9jChb33mOsqybe7r",
      "include_colab_link": true
    },
    "kernelspec": {
      "name": "python3",
      "display_name": "Python 3"
    },
    "language_info": {
      "name": "python"
    }
  },
  "cells": [
    {
      "cell_type": "markdown",
      "metadata": {
        "id": "view-in-github",
        "colab_type": "text"
      },
      "source": [
        "<a href=\"https://colab.research.google.com/github/gkram002/CSC221_gkram002/blob/main/Assignment9.ipynb\" target=\"_parent\"><img src=\"https://colab.research.google.com/assets/colab-badge.svg\" alt=\"Open In Colab\"/></a>"
      ]
    },
    {
      "cell_type": "markdown",
      "source": [
        "#1.) At least one should take text as an input.\n",
        "\n",
        "takes the input(word) and tells you the word count"
      ],
      "metadata": {
        "id": "SzirGPgW8Tjb"
      }
    },
    {
      "cell_type": "code",
      "execution_count": 11,
      "metadata": {
        "id": "KtyIGXm_Dkqv"
      },
      "outputs": [],
      "source": [
        "#import math\n",
        "import math\n",
        "\n",
        "#define your function(word counter)\n",
        "def word_counter(text):\n",
        "  #counts the number of words in the given text provided\n",
        "  word = text.split()\n",
        "  return len(word)\n",
        "\n"
      ]
    },
    {
      "cell_type": "code",
      "source": [
        "#test\n",
        "text = \"Here we go\"\n",
        "print(\"The amount of words in the count is\", word_counter(text))\n",
        "\n",
        "text = \"Thats really cool dude how does that work?\"\n",
        "print(\"The amount of words in the count is\", word_counter(text))\n",
        "\n",
        "text = \"I have a bad feeling about this\"\n",
        "print(\"The amount of words in the count is\", word_counter(text))"
      ],
      "metadata": {
        "colab": {
          "base_uri": "https://localhost:8080/"
        },
        "id": "Ti4jK_AC_MvX",
        "outputId": "0f7f9142-cd4e-44ac-d5f3-82c0b441f815"
      },
      "execution_count": 10,
      "outputs": [
        {
          "output_type": "stream",
          "name": "stdout",
          "text": [
            "The amount of words in the count is 3\n",
            "The amount of words in the count is 8\n",
            "The amount of words in the count is 7\n"
          ]
        }
      ]
    },
    {
      "cell_type": "markdown",
      "source": [
        "#2.)At least one should take a variable number of arguments as an input.\n",
        "# Calculator for averages\n",
        "useful in statistics"
      ],
      "metadata": {
        "id": "9q3MmVlC_VIq"
      }
    },
    {
      "cell_type": "code",
      "source": [
        "#code\n",
        "#def the average to find a variable of arguments\n",
        "def avg(*arguments):\n",
        "  #calculate the sum of the variable num of arguments using sum()\n",
        "  #divide the sum by the variable # of arguments which calculates avg of the total number of arguments\n",
        "  return sum(arguments) / len(arguments)\n",
        "\n"
      ],
      "metadata": {
        "id": "bd2yFL8vAESa"
      },
      "execution_count": 19,
      "outputs": []
    },
    {
      "cell_type": "code",
      "source": [
        "#test\n",
        "print(\"average\", avg(1,7,645,19585))\n",
        "print(\"average\", avg(2,7,9,13))\n",
        "print(\"average\", avg(0,0,0,13))"
      ],
      "metadata": {
        "colab": {
          "base_uri": "https://localhost:8080/"
        },
        "id": "oTr95eZSBGG0",
        "outputId": "dd79c3e7-32a9-4367-ad76-665224e9c4fe"
      },
      "execution_count": 21,
      "outputs": [
        {
          "output_type": "stream",
          "name": "stdout",
          "text": [
            "average 5059.5\n",
            "average 7.75\n",
            "average 3.25\n"
          ]
        }
      ]
    },
    {
      "cell_type": "code",
      "source": [],
      "metadata": {
        "id": "QDYR9zQiBNwb"
      },
      "execution_count": null,
      "outputs": []
    },
    {
      "cell_type": "markdown",
      "source": [
        "#3.)should return multiple items\n",
        "takes two numbers and returns the sum and the product of the number"
      ],
      "metadata": {
        "id": "BctFvX9nBhBl"
      }
    },
    {
      "cell_type": "code",
      "source": [
        "#code\n",
        "def sum_product_divisible(a, b):\n",
        "  #returns the result when a is added to be a is multiplied by b and a is divided by b\n",
        "  return a + b, a * b, a / b\n",
        "\n"
      ],
      "metadata": {
        "colab": {
          "base_uri": "https://localhost:8080/"
        },
        "id": "JXfZbfDgEqDl",
        "outputId": "d9660305-d79d-4723-8ee5-481f0e8d7377"
      },
      "execution_count": 27,
      "outputs": [
        {
          "output_type": "stream",
          "name": "stdout",
          "text": [
            "(7, 12, 0.75)\n"
          ]
        }
      ]
    },
    {
      "cell_type": "code",
      "source": [
        "#test\n",
        "print(sum_product_divisible(3, 4))\n",
        "print(sum_product_divisible(32133213124, 856875))\n",
        "print(sum_product_divisible(33, 413))\n"
      ],
      "metadata": {
        "colab": {
          "base_uri": "https://localhost:8080/"
        },
        "id": "zrbpAdp6Cuhm",
        "outputId": "a40a1c49-c8cf-405e-da04-391fe021bda3"
      },
      "execution_count": 29,
      "outputs": [
        {
          "output_type": "stream",
          "name": "stdout",
          "text": [
            "(7, 12, 0.75)\n",
            "(32134069999, 27534146995627500, 37500.467540773156)\n",
            "(446, 13629, 0.07990314769975787)\n"
          ]
        }
      ]
    },
    {
      "cell_type": "markdown",
      "source": [
        "#4.) At least one should use sorting.\n",
        "Ecology sorter of tree names\n",
        "\n",
        "A list will be created to sort a list of tree names by alphabetical position"
      ],
      "metadata": {
        "id": "S0xYYaHvFrg1"
      }
    },
    {
      "cell_type": "code",
      "source": [
        "#code\n",
        "def tree_sorter(tree_name):\n",
        "  #sorts tree alphabetically\n",
        "  return sorted(tree_name)\n",
        "\n"
      ],
      "metadata": {
        "id": "C8kKyobGGC2r"
      },
      "execution_count": 35,
      "outputs": []
    },
    {
      "cell_type": "code",
      "source": [
        "#test cases\n",
        "tree_name = [\"Oak\", \"Birch\", \"Sycamore\", \"Elm\", \"Fur\"]\n",
        "sorted_tree_name = tree_sorter(tree_name)\n",
        "print(sorted_tree_name)\n",
        "\n",
        "tree_name = [\"Maple\", \"Birch\", \"Sycamore\", \"Elm\", \"Fur\"]\n",
        "sorted_tree_name = tree_sorter(tree_name)\n",
        "print(sorted_tree_name)\n",
        "\n",
        "tree_name = [\"Deciduous\", \"Evergreen\", \"Pointy tree\", \"Elm\", \"Fur\"]\n",
        "sorted_tree_name = tree_sorter(tree_name)\n",
        "print(sorted_tree_name)"
      ],
      "metadata": {
        "colab": {
          "base_uri": "https://localhost:8080/"
        },
        "id": "fYZ4mUVrHFFO",
        "outputId": "87eb5414-3d3d-49e4-d25d-0213322e2316"
      },
      "execution_count": 39,
      "outputs": [
        {
          "output_type": "stream",
          "name": "stdout",
          "text": [
            "['Birch', 'Elm', 'Fur', 'Oak', 'Sycamore']\n",
            "['Birch', 'Elm', 'Fur', 'Maple', 'Sycamore']\n",
            "['Deciduous', 'Elm', 'Evergreen', 'Fur', 'Pointy tree']\n"
          ]
        }
      ]
    },
    {
      "cell_type": "markdown",
      "source": [
        "# 5.) Dictionary\n",
        "\n",
        "make a dictionary list of how many of something is at a supermarket"
      ],
      "metadata": {
        "id": "6LA1BrmsHfY4"
      }
    },
    {
      "cell_type": "code",
      "source": [
        "#code\n",
        "def food_finder(food_quantity):\n",
        "  #setting up dicitonary containing amounts and types of food\n",
        "  for food, amount in food_quantity.items():\n",
        "    print(f\"There is about {amount} {food} left\")\n",
        "#diciontarys of condiments, veggies, and meats\n",
        "condiments = {\"mustards\": 3, \"ketchups\": 4, \"mayos\": 32}\n",
        "vegetables = {\"broccolis\": 3, \"brusselsprouts\": 27, \"carrots\": 300}\n",
        "meats = {\"chickens\": 79, \"steaks\": 98, \"ducks\": 31}"
      ],
      "metadata": {
        "id": "JjOCWOhOJRN-"
      },
      "execution_count": 65,
      "outputs": []
    },
    {
      "cell_type": "code",
      "source": [
        "#test\n",
        "print(\"condiments:\")\n",
        "food_finder(condiments)\n",
        "print(\"veggies:\")\n",
        "food_finder(vegetables)\n",
        "print(\"meats:\")\n",
        "food_finder(meats)"
      ],
      "metadata": {
        "colab": {
          "base_uri": "https://localhost:8080/"
        },
        "id": "cmyYLJBuKk7q",
        "outputId": "4064dc00-1798-42b2-9afe-4fa0ea0d1ec8"
      },
      "execution_count": 66,
      "outputs": [
        {
          "output_type": "stream",
          "name": "stdout",
          "text": [
            "condiments:\n",
            "There is about 3 mustards left\n",
            "There is about 4 ketchups left\n",
            "There is about 32 mayos left\n",
            "veggies:\n",
            "There is about 3 broccolis left\n",
            "There is about 27 brusselsprouts left\n",
            "There is about 300 carrots left\n",
            "meats:\n",
            "There is about 79 chickens left\n",
            "There is about 98 steaks left\n",
            "There is about 31 ducks left\n"
          ]
        }
      ]
    },
    {
      "cell_type": "markdown",
      "source": [
        "# 6.) At least one should solve a puzzle by guessing and checking.\n",
        "\n",
        "guessing and checking to find target number"
      ],
      "metadata": {
        "id": "csefpO2ZLKZG"
      }
    },
    {
      "cell_type": "code",
      "source": [
        "import random\n",
        "\n",
        "print(\"Welcome to a Guessing Game!\")\n",
        "#makes a random number between 1 and 100\n",
        "target_number = random.randint(1, 100)\n",
        "\n",
        "#while the guess does not equal the number\n",
        "guess = -1\n",
        "while guess != target_number:\n",
        "  #enter guess and guess must be an integer\n",
        "    guess = input(\"Enter your guess: \")\n",
        "    guess = int(guess)\n",
        "# if guess is less than print too low if guess is greater print too high if guess is correct print correct\n",
        "    if guess < target_number:\n",
        "        print(\"Too low, try again.\")\n",
        "    elif guess > target_number:\n",
        "        print(\"Too high, try again.\")\n",
        "    else:\n",
        "      print(\"correct answer\")\n"
      ],
      "metadata": {
        "colab": {
          "base_uri": "https://localhost:8080/"
        },
        "id": "E1cRKsGwMpRx",
        "outputId": "e6305b9b-92de-4cea-c6fc-0bce5060627f"
      },
      "execution_count": 64,
      "outputs": [
        {
          "output_type": "stream",
          "name": "stdout",
          "text": [
            "Welcome to a Guessing Game!\n",
            "Enter your guess: 77\n",
            "Too low, try again.\n",
            "Enter your guess: 90\n",
            "Too high, try again.\n",
            "Enter your guess: 80\n",
            "Too low, try again.\n",
            "Enter your guess: 87\n",
            "Too high, try again.\n",
            "Enter your guess: 85\n",
            "correct answer\n"
          ]
        }
      ]
    },
    {
      "cell_type": "code",
      "source": [],
      "metadata": {
        "id": "rOccQhSwMqnG"
      },
      "execution_count": null,
      "outputs": []
    },
    {
      "cell_type": "markdown",
      "source": [
        "# 7.) solve a tricky math problem\n",
        "\n",
        "find factorials up to a certain number\n",
        " useful in statistics"
      ],
      "metadata": {
        "id": "-9wZqfsCSXbY"
      }
    },
    {
      "cell_type": "code",
      "source": [
        "#code\n",
        "#def function\n",
        "def factorial(x):\n",
        "  #calculates factorials of x\n",
        "  if x == 0:\n",
        "    return 1\n",
        "  else:\n",
        "    #returns factorial of x\n",
        "     return x * factorial(x-1)\n",
        "\n",
        "\n"
      ],
      "metadata": {
        "id": "-nB4ccsHUiEa"
      },
      "execution_count": 94,
      "outputs": []
    },
    {
      "cell_type": "code",
      "source": [
        "#tests\n",
        "print(factorial(68))\n",
        "print(factorial(21))\n",
        "print(factorial(5))\n",
        "print(factorial(3))"
      ],
      "metadata": {
        "colab": {
          "base_uri": "https://localhost:8080/"
        },
        "id": "QYUaKDNYVMyH",
        "outputId": "6f2eb9ac-8909-4e3c-f4ee-a8e2b50fd431"
      },
      "execution_count": 95,
      "outputs": [
        {
          "output_type": "stream",
          "name": "stdout",
          "text": [
            "2480035542436830599600990418569171581047399201355367672371710738018221445712183296000000000000000\n",
            "51090942171709440000\n",
            "120\n",
            "6\n"
          ]
        }
      ]
    },
    {
      "cell_type": "markdown",
      "source": [
        "# 8.) find a prime number"
      ],
      "metadata": {
        "id": "O50OwCTuVYEM"
      }
    },
    {
      "cell_type": "code",
      "source": [
        "#code\n",
        "def prime_number(x):\n",
        "# if x is equal to or less than 1 it cant be a prime number so return false\n",
        "  if x <= 1:\n",
        "    return False\n",
        "    #iterates from 2 to square root of the variable x\n",
        "  for i in range(2, int(x**0.5) + 1):\n",
        "    # if n will be divided by a number in the range it also will not be true\n",
        "    if x % i == 0:\n",
        "      return False\n",
        "  #if there is no divisor x is a prime number\n",
        "  return True\n",
        "\n",
        "print(prime_number(11))"
      ],
      "metadata": {
        "colab": {
          "base_uri": "https://localhost:8080/"
        },
        "id": "QYdt7Rz3VgpP",
        "outputId": "791e6711-f1c6-4834-de23-11da367dbfbe"
      },
      "execution_count": 76,
      "outputs": [
        {
          "output_type": "stream",
          "name": "stdout",
          "text": [
            "True\n"
          ]
        }
      ]
    },
    {
      "cell_type": "code",
      "source": [
        "#test\n",
        "\n",
        "print(prime_number(15))\n",
        "print(prime_number(2))\n",
        "print(prime_number(113))"
      ],
      "metadata": {
        "colab": {
          "base_uri": "https://localhost:8080/"
        },
        "id": "Q4JgAsfvWPH8",
        "outputId": "2339c992-8414-4afc-bbdd-bc5189b050f9"
      },
      "execution_count": 77,
      "outputs": [
        {
          "output_type": "stream",
          "name": "stdout",
          "text": [
            "False\n",
            "True\n",
            "True\n"
          ]
        }
      ]
    },
    {
      "cell_type": "markdown",
      "source": [
        "# 9.) Vacation locator"
      ],
      "metadata": {
        "id": "mCKNr7MkXaIx"
      }
    },
    {
      "cell_type": "code",
      "source": [
        "#code\n",
        "def vacation_location(pref):\n",
        "\n",
        "    #createa a dictionary\n",
        "    vacation_areas = {\n",
        "        \"beach\": \"Maui\",\n",
        "        \"mountains\": \"French Alps\",\n",
        "        \"city\": \"Los Angeles\",\n",
        "\n",
        "    }\n",
        "    #checks the preference for the specified area and then you recommends you most likely\n",
        "    if pref.lower() in vacation_areas:\n",
        "        return (f\"If you love {pref.lower()}, you should consider vacationing in {vacation_areas[pref.lower()]}.\")\n",
        "    else:\n",
        "        return (f\"We apologize however we don't have a suggestion for '{pref}'. maybe find another specified area?\")\n"
      ],
      "metadata": {
        "id": "2Veuaz0HX9Rs"
      },
      "execution_count": 88,
      "outputs": []
    },
    {
      "cell_type": "code",
      "source": [
        "# Test the function\n",
        "pref= \"beach\"\n",
        "print(vacation_location(pref))\n",
        "\n",
        "pref = \"mountains\"\n",
        "print(vacation_location(pref))\n",
        "\n",
        "pref = \"middle of nowhere\"\n",
        "print(vacation_location(pref))"
      ],
      "metadata": {
        "colab": {
          "base_uri": "https://localhost:8080/"
        },
        "id": "m-cef5B-Ye99",
        "outputId": "4b56f754-f3c0-4a2c-83ee-a075e1a4d44e"
      },
      "execution_count": 89,
      "outputs": [
        {
          "output_type": "stream",
          "name": "stdout",
          "text": [
            "If you love beach, you should consider vacationing in Maui.\n",
            "If you love mountains, you should consider vacationing in French Alps.\n",
            "We apologize however we don't have a suggestion for 'middle of nowhere'. maybe find another specified area?\n"
          ]
        }
      ]
    },
    {
      "cell_type": "code",
      "source": [],
      "metadata": {
        "id": "vMzQMl1WawzT"
      },
      "execution_count": null,
      "outputs": []
    },
    {
      "cell_type": "markdown",
      "source": [
        "# 10.) Random movie picker\n",
        "the function should pick a movie from a list at random"
      ],
      "metadata": {
        "id": "nh8Dd5bhaxWB"
      }
    },
    {
      "cell_type": "code",
      "source": [
        "#code\n",
        "import random\n",
        "def random_movie():\n",
        "  #create list\n",
        "  movie_list = [\"the Godfather\", \"Dune 2\", \"Star Wars Episode III: Revenge of the Sith\", \"Sharknado\", \"Spaceballs\", \"Cadyshack\", \"GhostBusters\", \"Avengers:Endgame\", \"Gladiator\",\n",
        "                \"Top Gun: Maverick\", \" The Batman\", \"Spinal Tap\", \" Barbie\"]\n",
        "#sets movie to random choice from the list\n",
        "  movie_randomizer = random.choice(movie_list)\n",
        "#return a text of choice with movie chosen\n",
        "  return(f\"The randomly picked movie is: {movie_randomizer}\")\n",
        "\n"
      ],
      "metadata": {
        "colab": {
          "base_uri": "https://localhost:8080/"
        },
        "id": "zfddfNJCbGFU",
        "outputId": "feb6dd69-cc12-4b24-cefc-e39933f8f458"
      },
      "execution_count": 92,
      "outputs": [
        {
          "output_type": "stream",
          "name": "stdout",
          "text": [
            "The randomly picked movie is: Spinal Tap\n",
            "The randomly picked movie is: Cadyshack\n"
          ]
        }
      ]
    },
    {
      "cell_type": "code",
      "source": [
        "#test\n",
        "print(random_movie())\n",
        "print(random_movie())\n",
        "print(random_movie())\n",
        "print(random_movie())\n",
        "print(random_movie())\n",
        "print(random_movie())"
      ],
      "metadata": {
        "colab": {
          "base_uri": "https://localhost:8080/"
        },
        "id": "dM9A1mKocEnD",
        "outputId": "95243f72-5328-413f-be3b-f79d2eae7fcd"
      },
      "execution_count": 93,
      "outputs": [
        {
          "output_type": "stream",
          "name": "stdout",
          "text": [
            "The randomly picked movie is: the Godfather\n",
            "The randomly picked movie is: Gladiator\n",
            "The randomly picked movie is: Avengers:Endgame\n",
            "The randomly picked movie is: Cadyshack\n",
            "The randomly picked movie is: Spinal Tap\n",
            "The randomly picked movie is: GhostBusters\n"
          ]
        }
      ]
    }
  ]
}