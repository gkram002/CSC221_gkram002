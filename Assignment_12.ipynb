{
  "nbformat": 4,
  "nbformat_minor": 0,
  "metadata": {
    "colab": {
      "provenance": [],
      "authorship_tag": "ABX9TyOb6XoBqvobCR+x5v4jrJK/",
      "include_colab_link": true
    },
    "kernelspec": {
      "name": "python3",
      "display_name": "Python 3"
    },
    "language_info": {
      "name": "python"
    }
  },
  "cells": [
    {
      "cell_type": "markdown",
      "metadata": {
        "id": "view-in-github",
        "colab_type": "text"
      },
      "source": [
        "<a href=\"https://colab.research.google.com/github/gkram002/CSC221_gkram002/blob/main/Assignment_12.ipynb\" target=\"_parent\"><img src=\"https://colab.research.google.com/assets/colab-badge.svg\" alt=\"Open In Colab\"/></a>"
      ]
    },
    {
      "cell_type": "code",
      "execution_count": 15,
      "metadata": {
        "colab": {
          "base_uri": "https://localhost:8080/"
        },
        "id": "FGBN1dldAZRY",
        "outputId": "54980fac-051e-4285-cd1c-a47299578781"
      },
      "outputs": [
        {
          "output_type": "stream",
          "name": "stdout",
          "text": [
            "Wallet one has [1, 5, 10, 0.05, 0.25]\n",
            "Therefore the total amount is [16.3]\n",
            "\n",
            "Wallet two has [5, 10, 20, 0.01, 0.05, 0.25]\n",
            "Therefore the total amount in wallet 2 is 35.31\n",
            "\n",
            "Wallet three has [1, 5, 10, 20, 50, 0.01, 0.05, 0.1, 0.25]\n",
            "Therefore the total amount in wallet 3 is 86.41\n"
          ]
        }
      ],
      "source": [
        "#class for money\n",
        "class Money:\n",
        "\n",
        "    def __init__(self, value):\n",
        "        self.value = value\n",
        "\n",
        "#class bills\n",
        "class Bills(Money):\n",
        "  pass\n",
        "#ones\n",
        "class One(Bills):\n",
        "\n",
        "    def __init__(self):\n",
        "        super().__init__(1)\n",
        "\n",
        "#fives\n",
        "class Five(Bills):\n",
        "\n",
        "    def __init__(self):\n",
        "        super().__init__(5)\n",
        "\n",
        "#tens\n",
        "class Ten(Bills):\n",
        "\n",
        "    def __init__(self):\n",
        "        super().__init__(10)\n",
        "\n",
        "#twentys\n",
        "class Twenty(Bills):\n",
        "\n",
        "    def __init__(self):\n",
        "        super().__init__(20)\n",
        "\n",
        "# added a fifty bill because why not\n",
        "class Fifty(Bills):\n",
        "\n",
        "    def __init__(self):\n",
        "        super().__init__(50)\n",
        "\n",
        "#class coins with pennies nickels dimes quarters\n",
        "class Coins(Money):\n",
        "  pass\n",
        "#pennies\n",
        "class Penny(Coins):\n",
        "\n",
        "    def __init__(self):\n",
        "        super().__init__(0.01)\n",
        "\n",
        "#nickels\n",
        "class Nickel(Coins):\n",
        "\n",
        "    def __init__(self):\n",
        "        super().__init__(0.05)\n",
        "\n",
        "#dimes\n",
        "class Dime(Coins):\n",
        "\n",
        "    def __init__(self):\n",
        "        super().__init__(0.10)\n",
        "\n",
        "#quarters\n",
        "class Quarter(Coins):\n",
        "\n",
        "\n",
        "    def __init__(self):\n",
        "        super().__init__(0.25)\n",
        "\n",
        "#wallet class\n",
        "class Wallet:\n",
        "\n",
        "    def __init__(self, money_list):\n",
        "        self.money_list = money_list\n",
        "\n",
        "    def total_amount(self):\n",
        "        total = 0\n",
        "        for money in self.money_list:\n",
        "            total += money.value\n",
        "        return round(total, 2)\n",
        "\n",
        "#run the wallet\n",
        "if __name__ == \"__main__\":\n",
        "    wallet_1 = Wallet([One(), Five(), Ten(), Nickel(), Quarter()])\n",
        "    wallet_2 = Wallet([Five(), Ten(), Twenty(), Penny(),  Nickel(), Quarter()])\n",
        "    wallet_3 = Wallet([One(), Five(), Ten(), Twenty(), Fifty(),  Penny(), Nickel(), Dime(), Quarter()])\n",
        "\n",
        "    print(\"Wallet one has\", [money.value for money in wallet_1.money_list])\n",
        "    print(\"Therefore the total amount is\", [wallet_1.total_amount()])\n",
        "\n",
        "    print(\"\\nWallet two has\", [money.value for money in wallet_2.money_list])\n",
        "    print(\"Therefore the total amount in wallet 2 is\", wallet_2.total_amount())\n",
        "\n",
        "    print(\"\\nWallet three has\", [money.value for money in wallet_3.money_list])\n",
        "    print(\"Therefore the total amount in wallet 3 is\", wallet_3.total_amount())\n",
        "\n",
        "\n"
      ]
    },
    {
      "cell_type": "code",
      "source": [],
      "metadata": {
        "id": "RRxAB9LVIS6y"
      },
      "execution_count": null,
      "outputs": []
    },
    {
      "cell_type": "code",
      "source": [
        "#music\n",
        "\n",
        "\n",
        "class Instrument:\n",
        "  def __init__(self, name):\n",
        "    self.name = name\n",
        "\n",
        "    def play(self):\n",
        "      pass\n",
        "\n",
        "\n",
        "class Guitar(Instrument):\n",
        "  def play(self):\n",
        "    return \"shredding that guitar\"\n",
        "\n",
        "\n",
        "class Piano(Instrument):\n",
        "  def play(self):\n",
        "    return \"You play better than Chakovsky\"\n",
        "\n",
        "\n",
        "class Drum(Instrument):\n",
        "  def play(self):\n",
        "    return \"Better than Bonham\"\n",
        "\n",
        "\n",
        "class Bass(Instrument):\n",
        "  def play(self):\n",
        "    return \"spitting image of Cliff Burton\"\n",
        "\n",
        "\n",
        "\n",
        "#test the music\n",
        "\n",
        "if __name__ == \"__main__\":\n",
        "  guitar = Guitar(\"1980 Gibson Explorer\")\n",
        "  piano = Piano(\"Steinway Grand Piano\")\n",
        "  drum = Drum(\"White Tama kit\")\n",
        "  bass = Bass(\"That red one\")\n",
        "\n",
        "\n",
        "  print(f\"{guitar.name}: {guitar.play()}\")\n",
        "  print(f\"{piano.name}: {piano.play()}\")\n",
        "  print(f\"{drum.name}: {drum.play()}\")\n",
        "  print(f\"{bass.name}: {bass.play()}\")\n",
        "\n",
        "\n",
        "\n",
        "\n"
      ],
      "metadata": {
        "colab": {
          "base_uri": "https://localhost:8080/"
        },
        "id": "SyfS3Ql6DwCg",
        "outputId": "7c426fc1-4d1f-4aa9-ab73-3bff7362a9ab"
      },
      "execution_count": 13,
      "outputs": [
        {
          "output_type": "stream",
          "name": "stdout",
          "text": [
            "1980 Gibson Explorer: shredding that guitar\n",
            "Steinway Grand Piano: You play better than Chakovsky\n",
            "White Tama kit: Better than Bonham\n",
            "That red one: spitting image of Cliff Burton\n"
          ]
        }
      ]
    }
  ]
}