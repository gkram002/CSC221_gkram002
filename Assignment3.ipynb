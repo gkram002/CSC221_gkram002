{
  "nbformat": 4,
  "nbformat_minor": 0,
  "metadata": {
    "colab": {
      "provenance": [],
      "mount_file_id": "139D7klUJ-uPR92Cga2ulHfiGgLFW1h2t",
      "authorship_tag": "ABX9TyPCrqKw6Tavn0fyW/rHd0HI",
      "include_colab_link": true
    },
    "kernelspec": {
      "name": "python3",
      "display_name": "Python 3"
    },
    "language_info": {
      "name": "python"
    }
  },
  "cells": [
    {
      "cell_type": "markdown",
      "metadata": {
        "id": "view-in-github",
        "colab_type": "text"
      },
      "source": [
        "<a href=\"https://colab.research.google.com/github/gkram002/CSC221_gkram002/blob/main/Assignment3.ipynb\" target=\"_parent\"><img src=\"https://colab.research.google.com/assets/colab-badge.svg\" alt=\"Open In Colab\"/></a>"
      ]
    },
    {
      "cell_type": "code",
      "execution_count": 2,
      "metadata": {
        "colab": {
          "base_uri": "https://localhost:8080/"
        },
        "id": "_N6KuG-mcYZ3",
        "outputId": "5b3a5f8c-63dc-4e55-b5c0-365103273de2"
      },
      "outputs": [
        {
          "output_type": "stream",
          "name": "stdout",
          "text": [
            "Hi, how are you\n"
          ]
        }
      ],
      "source": [
        "#2.1 assign variable then print message\n",
        "message = \"Hi, how are you\"\n",
        "print(message)"
      ]
    },
    {
      "cell_type": "code",
      "source": [
        "#2.2\n",
        "message = \"Howdy\"\n",
        "print(message)\n",
        "\n",
        "message = \"have a nice day\"\n",
        "print(message)\n"
      ],
      "metadata": {
        "colab": {
          "base_uri": "https://localhost:8080/"
        },
        "id": "nQmerfnhc_8q",
        "outputId": "558e108d-220d-4b3b-c566-67a09264c17a"
      },
      "execution_count": 5,
      "outputs": [
        {
          "output_type": "stream",
          "name": "stdout",
          "text": [
            "Howdy\n",
            "have a nice day\n"
          ]
        }
      ]
    },
    {
      "cell_type": "code",
      "source": [
        "#2.3\n",
        "name = \"Eric\"\n",
        "message = (f\"Hello {name}, would you like to learn Python today?)\")\n",
        "\n",
        "print(message)\n"
      ],
      "metadata": {
        "colab": {
          "base_uri": "https://localhost:8080/"
        },
        "id": "QwVAq5rMewWz",
        "outputId": "acbeea68-8291-475b-d952-8a6177ce2895"
      },
      "execution_count": 8,
      "outputs": [
        {
          "output_type": "stream",
          "name": "stdout",
          "text": [
            "Hello Eric, would you like to learn Python today?)\n"
          ]
        }
      ]
    },
    {
      "cell_type": "code",
      "source": [
        "#2.4\n",
        "name = \"graham\"\n",
        "\n",
        "print(name.upper())\n",
        "print(name.lower())\n",
        "print(name.title())"
      ],
      "metadata": {
        "colab": {
          "base_uri": "https://localhost:8080/"
        },
        "id": "kJ5K0LybfXZg",
        "outputId": "9eb20f64-137e-4ddc-d020-e7c3c8b6d044"
      },
      "execution_count": 10,
      "outputs": [
        {
          "output_type": "stream",
          "name": "stdout",
          "text": [
            "GRAHAM\n",
            "graham\n",
            "Graham\n"
          ]
        }
      ]
    },
    {
      "cell_type": "code",
      "source": [
        "#2.5\n",
        "print('James Hetfield once said, \"I\\'d rather regret doing something ')\n",
        "print('than not doing something\" ')"
      ],
      "metadata": {
        "colab": {
          "base_uri": "https://localhost:8080/"
        },
        "id": "uXHdZbfEfmmL",
        "outputId": "6f8ac8be-8924-42b3-821b-b421f22c68c4"
      },
      "execution_count": 11,
      "outputs": [
        {
          "output_type": "stream",
          "name": "stdout",
          "text": [
            "James Hetfield once said, \"I'd rather regret doing something \n",
            "than not doing something\" \n"
          ]
        }
      ]
    },
    {
      "cell_type": "code",
      "source": [
        "#2.6\n",
        "famous_person = \"James Hetfield\"\n",
        "print(f'{famous_person} once said, \"I\\'d rather regret doing something ')\n",
        "print('than not doing something\" ')"
      ],
      "metadata": {
        "colab": {
          "base_uri": "https://localhost:8080/"
        },
        "id": "NWAQ3PacgZJb",
        "outputId": "8a2557bb-8a46-45d6-fcd2-edc4b2775eb0"
      },
      "execution_count": 13,
      "outputs": [
        {
          "output_type": "stream",
          "name": "stdout",
          "text": [
            "James Hetfield once said, \"I'd rather regret doing something \n",
            "than not doing something\" \n"
          ]
        }
      ]
    },
    {
      "cell_type": "code",
      "source": [
        "#2.7\n",
        "name = \"\\tGraham Kramer\\n\"\n",
        "\n",
        "print(name)\n",
        "#using lstrip\n",
        "print(name.lstrip())\n",
        "#using rstrip\n",
        "print(name.rstrip())\n",
        "#using strip\n",
        "print(name.strip())\n"
      ],
      "metadata": {
        "colab": {
          "base_uri": "https://localhost:8080/"
        },
        "id": "EGrDGyfagqPV",
        "outputId": "5578cdd7-ed43-46b1-e0fc-4841b4058117"
      },
      "execution_count": 20,
      "outputs": [
        {
          "output_type": "stream",
          "name": "stdout",
          "text": [
            "\tGraham Kramer\n",
            "\n",
            "Graham Kramer\n",
            "\n",
            "\tGraham Kramer\n",
            "Graham Kramer\n"
          ]
        }
      ]
    },
    {
      "cell_type": "code",
      "source": [
        "#2.8\n",
        "filename = \"python_notes.txt\"\n",
        "normal_filename = filename.removesuffix(\".txt\")\n",
        "\n",
        "print(normal_filename)"
      ],
      "metadata": {
        "colab": {
          "base_uri": "https://localhost:8080/"
        },
        "id": "lziaVvomhf6Z",
        "outputId": "df602fb7-4cc4-4dbc-83ce-5584e5b7bc8d"
      },
      "execution_count": 39,
      "outputs": [
        {
          "output_type": "stream",
          "name": "stdout",
          "text": [
            "python_notes\n"
          ]
        }
      ]
    },
    {
      "cell_type": "code",
      "source": [
        "#2.9 and 2.11 the program prints 4 different ways to find the number 9=8 using adding, subtracting, multiplying, and dividing\n",
        "print(16/2)\n",
        "print(2*4)\n",
        "print(12-4)\n",
        "print(4+4)"
      ],
      "metadata": {
        "colab": {
          "base_uri": "https://localhost:8080/"
        },
        "id": "Hrp_z88_jFL-",
        "outputId": "1e6b877a-cd86-4fe6-f958-dc409da24a9b"
      },
      "execution_count": 32,
      "outputs": [
        {
          "output_type": "stream",
          "name": "stdout",
          "text": [
            "8.0\n",
            "8\n",
            "8\n",
            "8\n"
          ]
        }
      ]
    },
    {
      "cell_type": "code",
      "source": [
        "#2.10 and 2.11 the program takes the int favorite number and puts it into the message below\n",
        "favorite_number = 7\n",
        "message = (f\"My favorite number is {favorite_number}\")\n",
        "\n",
        "print(message)"
      ],
      "metadata": {
        "colab": {
          "base_uri": "https://localhost:8080/"
        },
        "id": "jvqn8yoKj072",
        "outputId": "a0ee9600-9b2c-41e2-86ff-612037acde7e"
      },
      "execution_count": 33,
      "outputs": [
        {
          "output_type": "stream",
          "name": "stdout",
          "text": [
            "My favorite number is 7\n"
          ]
        }
      ]
    },
    {
      "cell_type": "markdown",
      "source": [],
      "metadata": {
        "id": "kqUyMPFTkatw"
      }
    },
    {
      "cell_type": "code",
      "source": [],
      "metadata": {
        "id": "yMhgB2V7kCem"
      },
      "execution_count": null,
      "outputs": []
    }
  ]
}