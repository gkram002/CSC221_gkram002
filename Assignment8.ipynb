{
  "nbformat": 4,
  "nbformat_minor": 0,
  "metadata": {
    "colab": {
      "provenance": [],
      "authorship_tag": "ABX9TyO20lSSNYKbwJmqkU1xd6Mx",
      "include_colab_link": true
    },
    "kernelspec": {
      "name": "python3",
      "display_name": "Python 3"
    },
    "language_info": {
      "name": "python"
    }
  },
  "cells": [
    {
      "cell_type": "markdown",
      "metadata": {
        "id": "view-in-github",
        "colab_type": "text"
      },
      "source": [
        "<a href=\"https://colab.research.google.com/github/gkram002/CSC221_gkram002/blob/main/Assignment8.ipynb\" target=\"_parent\"><img src=\"https://colab.research.google.com/assets/colab-badge.svg\" alt=\"Open In Colab\"/></a>"
      ]
    },
    {
      "cell_type": "code",
      "execution_count": 2,
      "metadata": {
        "colab": {
          "base_uri": "https://localhost:8080/"
        },
        "id": "MXYRjrxSLXdW",
        "outputId": "032f195b-c0ad-480b-c27d-3ccb0e1bffe2"
      },
      "outputs": [
        {
          "output_type": "stream",
          "name": "stdout",
          "text": [
            "Percy Jackson and The Olympians: The Lightning Thief is one of my favorite books ever\n"
          ]
        }
      ],
      "source": [
        "#8.2 favorite book\n",
        "def fav_book(title):\n",
        "  #displays the message about the favorite book\n",
        "  print(f\"{title} is one of my favorite books ever\")\n",
        "\n",
        "\n",
        "fav_book(\"Percy Jackson and The Olympians: The Lightning Thief\")"
      ]
    },
    {
      "cell_type": "code",
      "source": [
        "#8.3 the shirt maker\n",
        "def make_shirt(size, message):\n",
        "  #make the shirts size and message\n",
        "    print(f\"The shirt is going to be {size} sized\")\n",
        "    print(f'On the shirt it will say \"{message}\"')\n",
        "\n",
        "make_shirt('x-small', \"I'm awesome\")\n",
        "make_shirt(size=\"large\", message=\"cool\")"
      ],
      "metadata": {
        "colab": {
          "base_uri": "https://localhost:8080/"
        },
        "id": "oDa2i0SML52P",
        "outputId": "9fc5bf79-0a3e-4857-88ef-d426c3a0caaa"
      },
      "execution_count": 20,
      "outputs": [
        {
          "output_type": "stream",
          "name": "stdout",
          "text": [
            "The shirt is going to be x-small sized\n",
            "On the shirt it will say \"I'm awesome\"\n",
            "The shirt is going to be large sized\n",
            "On the shirt it will say \"cool\"\n"
          ]
        }
      ]
    },
    {
      "cell_type": "code",
      "source": [
        "#8.4 large shirts\n",
        "def make_shirt(size=\"large\", message='I love Python so much'):\n",
        "   print(f\"The shirt is going to be {size} sized\")\n",
        "   print(f'On the shirt it will say \"{message}\"')\n",
        "\n",
        "make_shirt\n",
        "make_shirt(size=\"medium\")\n",
        "make_shirt(size=\"x-large\", message=\"Programming is pretty cool\")"
      ],
      "metadata": {
        "colab": {
          "base_uri": "https://localhost:8080/"
        },
        "id": "yuxFrSgvMF94",
        "outputId": "4ec562ef-51d2-4112-f7e4-9181bcef46d1"
      },
      "execution_count": 21,
      "outputs": [
        {
          "output_type": "stream",
          "name": "stdout",
          "text": [
            "The shirt is going to be medium sized\n",
            "On the shirt it will say \"I love Python so much\"\n",
            "The shirt is going to be x-large sized\n",
            "On the shirt it will say \"Programming is pretty cool\"\n"
          ]
        }
      ]
    },
    {
      "cell_type": "code",
      "source": [],
      "metadata": {
        "id": "R9S29LaTPQba"
      },
      "execution_count": null,
      "outputs": []
    },
    {
      "cell_type": "markdown",
      "source": [
        "#FUNC8 A B C"
      ],
      "metadata": {
        "id": "_sshMmzyP6KN"
      }
    },
    {
      "cell_type": "code",
      "source": [
        "#function pseudocode/flowchart\n",
        "#make a function name func8(a,b,c=42) which makes c have a default value of 42 so if not given a value in testing c will equal 42\n",
        "#find the sum of a, b, c\n",
        "#find the product of a b c\n",
        "#make a list containing the abc from above\n",
        "#Make a way to sort the numbers\n",
        "#then i want the sum sorted and product to be returned"
      ],
      "metadata": {
        "id": "HnptzSjzP-1y"
      },
      "execution_count": null,
      "outputs": []
    },
    {
      "cell_type": "markdown",
      "source": [
        " HOW do you make a function that takes either 2 or 3 arguments?\n",
        "\n",
        "make 2 of the arguments required and the third one an optional argument.\n",
        "\n",
        "HOW do you make the third argument 42 if it is not provided?\n",
        "set c or the third variable equal to 42 so that if c is not listed it will automatically be 42\n"
      ],
      "metadata": {
        "id": "8v6PZnE6SOhP"
      }
    },
    {
      "cell_type": "code",
      "source": [
        "#code\n",
        "def func8(a, b, c=42):\n",
        "  #find the sum of a b c\n",
        "  sum = a + b + c\n",
        "  #find the product of a b c\n",
        "  final_product = a * b * c\n",
        "  #make a list containing the abc from above and make a way to sort the numbers\n",
        "  sorted_num_list = sorted([a,b,c])\n",
        "  #then i want the sum sorted and product to be returned\n",
        "  return sum, final_product, sorted_num_list\n",
        "\n",
        "\n"
      ],
      "metadata": {
        "id": "nNRfUyKaRDGE"
      },
      "execution_count": 24,
      "outputs": []
    },
    {
      "cell_type": "code",
      "source": [
        "#tests\n",
        "print(func8(7, 3, 4))\n",
        "print(func8(7, 3, ))\n",
        "print(func8(2090, 133, 3))\n",
        "print(func8(0, 0 ))\n",
        "print(func8(42, 42, ))\n",
        "print(func8(1, 523, 4313))"
      ],
      "metadata": {
        "colab": {
          "base_uri": "https://localhost:8080/"
        },
        "id": "nZts9O6WRnrU",
        "outputId": "e8cf4c92-083e-4618-8721-0e497a3261f2"
      },
      "execution_count": 33,
      "outputs": [
        {
          "output_type": "stream",
          "name": "stdout",
          "text": [
            "(14, 84, [3, 4, 7])\n",
            "(52, 882, [3, 7, 42])\n",
            "(2226, 833910, [3, 133, 2090])\n",
            "(42, 0, [0, 0, 42])\n",
            "(126, 74088, [42, 42, 42])\n",
            "(4837, 2255699, [1, 523, 4313])\n"
          ]
        }
      ]
    }
  ]
}