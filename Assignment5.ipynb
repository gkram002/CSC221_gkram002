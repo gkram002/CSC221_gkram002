{
  "nbformat": 4,
  "nbformat_minor": 0,
  "metadata": {
    "colab": {
      "provenance": [],
      "authorship_tag": "ABX9TyNTZi6FJP1+whZempo++dlJ",
      "include_colab_link": true
    },
    "kernelspec": {
      "name": "python3",
      "display_name": "Python 3"
    },
    "language_info": {
      "name": "python"
    }
  },
  "cells": [
    {
      "cell_type": "markdown",
      "metadata": {
        "id": "view-in-github",
        "colab_type": "text"
      },
      "source": [
        "<a href=\"https://colab.research.google.com/github/gkram002/CSC221_gkram002/blob/main/Assignment5.ipynb\" target=\"_parent\"><img src=\"https://colab.research.google.com/assets/colab-badge.svg\" alt=\"Open In Colab\"/></a>"
      ]
    },
    {
      "cell_type": "code",
      "execution_count": 19,
      "metadata": {
        "colab": {
          "base_uri": "https://localhost:8080/"
        },
        "id": "XtRHOr0rdRUI",
        "outputId": "dba590f5-8e3d-407e-889b-c74ff0b98471"
      },
      "outputs": [
        {
          "output_type": "stream",
          "name": "stdout",
          "text": [
            "pepperoni\n",
            "supreme\n",
            "hawaiian\n",
            "I really love pepperoni pizza!!!!\n",
            "I really love supreme pizza!!!!\n",
            "I really love hawaiian pizza!!!!\n",
            "\n",
            " I really love pizza!\n",
            "the first three items in the list are:\n",
            "['pepperoni', 'supreme', 'hawaiian']\n",
            "the item in the middle of the list is\n",
            "supreme\n",
            "the item at the end of the list is\n",
            "hawaiian\n"
          ]
        }
      ],
      "source": [
        "#4.1 and 4.10 and #4.15\n",
        "fav_pizza = [\"pepperoni\",\n",
        "             \"supreme\", \"hawaiian\"]\n",
        "\n",
        "for pizza in fav_pizza:\n",
        "  print(pizza)\n",
        "\n",
        "for pizza in fav_pizza:\n",
        "  print(f\"I really love{pizza} pizza!!!!\")\n",
        "\n",
        "\n",
        "print(\"\\n I really love pizza!\")\n",
        "\n",
        "#4.10\n",
        "print(\"the first three items in the list are:\")\n",
        "print(fav_pizza[0:3])\n",
        "print(\"the item in the middle of the list is\")\n",
        "print(fav_pizza[1])\n",
        "print(\"the item at the end of the list is\")\n",
        "print(fav_pizza[2])"
      ]
    },
    {
      "cell_type": "code",
      "source": [
        "#4.2\n",
        "animals = [\"dog\", \"leopard\", \"spider\"]\n",
        "\n",
        "for animal in animals:\n",
        "  print(animal)\n",
        "\n",
        "\n",
        "for animal in animals:\n",
        "  print(f\"A {animal} would make a great pet!\")\n",
        "\n",
        "print(\"\\n I really think they would be a great pet!\")"
      ],
      "metadata": {
        "colab": {
          "base_uri": "https://localhost:8080/"
        },
        "id": "QTfaddqieO3d",
        "outputId": "44afa755-b9d5-4c63-8b8e-050be50e13ce"
      },
      "execution_count": 5,
      "outputs": [
        {
          "output_type": "stream",
          "name": "stdout",
          "text": [
            "dog\n",
            "leopard\n",
            "spider\n",
            "A dog would make a great pet!\n",
            "A leopard would make a great pet!\n",
            "A spider would make a great pet!\n",
            "\n",
            " I really think they would be a great pet!\n"
          ]
        }
      ]
    },
    {
      "cell_type": "code",
      "source": [
        "#4.3\n",
        "numbers = list(range(1, 21))\n",
        "\n",
        "for num in numbers:\n",
        "  print(num)"
      ],
      "metadata": {
        "colab": {
          "base_uri": "https://localhost:8080/"
        },
        "id": "RTQcwUnlew0V",
        "outputId": "3f0dbea7-f1a8-4ae7-c530-aee5ffe902ec"
      },
      "execution_count": 6,
      "outputs": [
        {
          "output_type": "stream",
          "name": "stdout",
          "text": [
            "1\n",
            "2\n",
            "3\n",
            "4\n",
            "5\n",
            "6\n",
            "7\n",
            "8\n",
            "9\n",
            "10\n",
            "11\n",
            "12\n",
            "13\n",
            "14\n",
            "15\n",
            "16\n",
            "17\n",
            "18\n",
            "19\n",
            "20\n"
          ]
        }
      ]
    },
    {
      "cell_type": "code",
      "source": [
        "#4.4\n",
        "numbers = list(range(1, 1_100_001))\n",
        "\n",
        "for num in numbers:\n",
        "  print(num)"
      ],
      "metadata": {
        "id": "x7OdIzh9e_IR"
      },
      "execution_count": null,
      "outputs": []
    },
    {
      "cell_type": "code",
      "source": [
        "#4.5\n",
        "numbers = list(range(1, 1_100_001))\n",
        "\n",
        "print(min(numbers))\n",
        "print(max(numbers))\n",
        "print(sum(numbers))"
      ],
      "metadata": {
        "colab": {
          "base_uri": "https://localhost:8080/"
        },
        "id": "1OalHWhzfUdK",
        "outputId": "6ed98db3-23f3-4de1-8433-e68e5a0af99d"
      },
      "execution_count": 8,
      "outputs": [
        {
          "output_type": "stream",
          "name": "stdout",
          "text": [
            "1\n",
            "1100000\n",
            "605000550000\n"
          ]
        }
      ]
    },
    {
      "cell_type": "code",
      "source": [
        "#4.6\n",
        "odd_num = list(range(1, 20, 2))\n",
        "\n",
        "for num in odd_num:\n",
        "  print(num)"
      ],
      "metadata": {
        "colab": {
          "base_uri": "https://localhost:8080/"
        },
        "id": "xN1GXHjEfjrT",
        "outputId": "dd0b838f-1872-4bcd-d7dd-64890c043189"
      },
      "execution_count": 10,
      "outputs": [
        {
          "output_type": "stream",
          "name": "stdout",
          "text": [
            "1\n",
            "3\n",
            "5\n",
            "7\n",
            "9\n",
            "11\n",
            "13\n",
            "15\n",
            "17\n",
            "19\n"
          ]
        }
      ]
    },
    {
      "cell_type": "code",
      "source": [
        "#4.7\n",
        "multi_three = list(range(3, 31, 3))\n",
        "\n",
        "for num in multi_three:\n",
        "  print(num)"
      ],
      "metadata": {
        "colab": {
          "base_uri": "https://localhost:8080/"
        },
        "id": "06UDRNUCf_h6",
        "outputId": "361e4bdf-4818-4136-da6a-a22e0cfab0ed"
      },
      "execution_count": 11,
      "outputs": [
        {
          "output_type": "stream",
          "name": "stdout",
          "text": [
            "3\n",
            "6\n",
            "9\n",
            "12\n",
            "15\n",
            "18\n",
            "21\n",
            "24\n",
            "27\n",
            "30\n"
          ]
        }
      ]
    },
    {
      "cell_type": "code",
      "source": [
        "#4.8\n",
        "cubes = []\n",
        "for num in range(1, 11):\n",
        "  cube = num**3\n",
        "  cubes.append(cube)\n",
        "\n",
        "for cube in cubes:\n",
        "  print(cube)"
      ],
      "metadata": {
        "colab": {
          "base_uri": "https://localhost:8080/"
        },
        "id": "htfspHt4gPYU",
        "outputId": "177b8549-f4e0-43b4-a8ab-f00c17360be9"
      },
      "execution_count": 12,
      "outputs": [
        {
          "output_type": "stream",
          "name": "stdout",
          "text": [
            "1\n",
            "8\n",
            "27\n",
            "64\n",
            "125\n",
            "216\n",
            "343\n",
            "512\n",
            "729\n",
            "1000\n"
          ]
        }
      ]
    },
    {
      "cell_type": "code",
      "source": [
        "#4.9\n",
        "cube = [num**3 for number in range(1, 11)]\n",
        "for cube in cubes:\n",
        "  print(cube)"
      ],
      "metadata": {
        "colab": {
          "base_uri": "https://localhost:8080/"
        },
        "id": "Yxi4iQEIgtz0",
        "outputId": "379e634b-7c0f-43cd-ea2d-dddb14434162"
      },
      "execution_count": 13,
      "outputs": [
        {
          "output_type": "stream",
          "name": "stdout",
          "text": [
            "1\n",
            "8\n",
            "27\n",
            "64\n",
            "125\n",
            "216\n",
            "343\n",
            "512\n",
            "729\n",
            "1000\n"
          ]
        }
      ]
    },
    {
      "cell_type": "code",
      "source": [
        "#4.11 and 4.15\n",
        "fav_pizza = [\"pepperoni\",\n",
        "             \"supreme\", \"hawaiian\"]\n",
        "friend_pizzas = fav_pizza[0:3]\n",
        "\n",
        "fav_pizza.append(\"mushroom\")\n",
        "friend_pizzas.append(\"margarita\")\n",
        "\n",
        "print(\"my favorite pizzas are\")\n",
        "for pizza in fav_pizza:\n",
        "  print(f\" {pizza}\")\n",
        "\n",
        "print(\"my friends favorite pizzas are\")\n",
        "for pizza in friend_pizzas:\n",
        "  print(f\" {pizza}\")\n",
        "\n",
        "\n",
        "print(\"\\n We really love pizza!\")"
      ],
      "metadata": {
        "colab": {
          "base_uri": "https://localhost:8080/"
        },
        "id": "pH4eWfaqg1JI",
        "outputId": "ff59f10c-526b-4b95-fe07-75aa483e9791"
      },
      "execution_count": 24,
      "outputs": [
        {
          "output_type": "stream",
          "name": "stdout",
          "text": [
            "my favorite pizzas are\n",
            " pepperoni\n",
            " supreme\n",
            " hawaiian\n",
            " mushroom\n",
            "my friends favorite pizzas are\n",
            " pepperoni\n",
            " supreme\n",
            " hawaiian\n",
            " margarita\n",
            "\n",
            " I really love pizza!\n"
          ]
        }
      ]
    },
    {
      "cell_type": "code",
      "source": [
        "#4.12\n",
        "my_fav_food = [\"ice cream cake\", \"sushi\", \"spaghetti\"]\n",
        "friend_food = my_fav_food[0:3]\n",
        "\n",
        "my_fav_food.append(\"lasagna\")\n",
        "friend_food.append(\"grilled cheese\")\n",
        "\n",
        "print(\"my favorite foods are\")\n",
        "for food in my_fav_food:\n",
        "  print(f\" {food}\")\n",
        "\n",
        "print(\"my friends favorite foods are\")\n",
        "for food in friend_food:\n",
        "  print(f\" {food}\")\n",
        "\n",
        "\n"
      ],
      "metadata": {
        "colab": {
          "base_uri": "https://localhost:8080/"
        },
        "id": "I3npqW0YjMNo",
        "outputId": "edc2a2d0-b0e1-479b-ff76-405e7d65b511"
      },
      "execution_count": 27,
      "outputs": [
        {
          "output_type": "stream",
          "name": "stdout",
          "text": [
            "my favorite foods are\n",
            " ice cream cake\n",
            " sushi\n",
            " spaghetti\n",
            " lasagna\n",
            "my friends favorite foods are\n",
            " ice cream cake\n",
            " sushi\n",
            " spaghetti\n",
            " grilled cheese\n"
          ]
        }
      ]
    },
    {
      "cell_type": "code",
      "source": [
        "#4.13 and 4.15\n",
        "buffet_menu = (\"salmon\", \"pizza\",\n",
        "               \"wings\", \"sushi\", \"mashed potatoes\")\n",
        "\n",
        "\n",
        "print(\"here is the menu: \")\n",
        "for item in buffet_menu:\n",
        "  print(f\" {item}\")\n",
        "\n",
        "buffet_menu = (\"Smoked Brisket\", \"pizza\", \"wings\",\n",
        "               \"sliders\", \"chicken nuggets\")\n",
        "\n",
        "print(\"\\nwe have changed our menu\")\n",
        "print(\"here is the new menu \")\n",
        "for item in buffet_menu:\n",
        "  print(f\" {item}\")\n"
      ],
      "metadata": {
        "colab": {
          "base_uri": "https://localhost:8080/"
        },
        "id": "H5cbcjJij7RU",
        "outputId": "0e929257-7462-45c6-90d5-7b7bd2a33d8e"
      },
      "execution_count": 30,
      "outputs": [
        {
          "output_type": "stream",
          "name": "stdout",
          "text": [
            "here is the menu: \n",
            " salmon\n",
            " pizza\n",
            " wings\n",
            " sushi\n",
            " mashed potatoes\n",
            "\n",
            "we have changed our menu\n",
            "here is the new menu \n",
            " Smoked Brisket\n",
            " pizza\n",
            " wings\n",
            " sliders\n",
            " chicken nuggets\n"
          ]
        }
      ]
    },
    {
      "cell_type": "code",
      "source": [
        "# function factorial(n)\n",
        "def factorial(n):\n",
        "    result = 1\n",
        "    for x in range(1, n + 1):\n",
        "        result *= x\n",
        "    print(result)\n",
        "\n",
        "\n",
        "factorial(5)\n",
        "factorial(0)\n",
        "factorial(10)\n",
        "factorial(29)"
      ],
      "metadata": {
        "colab": {
          "base_uri": "https://localhost:8080/"
        },
        "id": "zCnTRyIxlE28",
        "outputId": "b2846793-05ca-47f9-85de-3085cf2d4c69"
      },
      "execution_count": 67,
      "outputs": [
        {
          "output_type": "stream",
          "name": "stdout",
          "text": [
            "120\n",
            "1\n",
            "3628800\n",
            "8841761993739701954543616000000\n"
          ]
        }
      ]
    },
    {
      "cell_type": "code",
      "source": [
        "#special factorial\n",
        "def special_factorial(n):\n",
        "    answer = 1\n",
        "    for x in range(1, n + 1):\n",
        "        if x not in (4, 13, 22):\n",
        "            answer *= x\n",
        "    print(answer)\n",
        "\n",
        "\n",
        "special_factorial(5)\n",
        "special_factorial(10)\n",
        "special_factorial(25)\n",
        "special_factorial(47)\n",
        "special_factorial(13)"
      ],
      "metadata": {
        "colab": {
          "base_uri": "https://localhost:8080/"
        },
        "id": "1XueayMAojYi",
        "outputId": "d12ea78f-bdcb-49a5-b054-c533ae471948"
      },
      "execution_count": 69,
      "outputs": [
        {
          "output_type": "stream",
          "name": "stdout",
          "text": [
            "30\n",
            "907200\n",
            "13558750037876736000000\n",
            "226069267055216941121472338420989492980067860480000000000\n",
            "119750400\n"
          ]
        }
      ]
    }
  ]
}