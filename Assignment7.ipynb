{
  "nbformat": 4,
  "nbformat_minor": 0,
  "metadata": {
    "colab": {
      "provenance": [],
      "authorship_tag": "ABX9TyPSm1SaoGanVTLde7vC9cld",
      "include_colab_link": true
    },
    "kernelspec": {
      "name": "python3",
      "display_name": "Python 3"
    },
    "language_info": {
      "name": "python"
    }
  },
  "cells": [
    {
      "cell_type": "markdown",
      "metadata": {
        "id": "view-in-github",
        "colab_type": "text"
      },
      "source": [
        "<a href=\"https://colab.research.google.com/github/gkram002/CSC221_gkram002/blob/main/Assignment7.ipynb\" target=\"_parent\"><img src=\"https://colab.research.google.com/assets/colab-badge.svg\" alt=\"Open In Colab\"/></a>"
      ]
    },
    {
      "cell_type": "code",
      "execution_count": null,
      "metadata": {
        "colab": {
          "base_uri": "https://localhost:8080/"
        },
        "id": "nAlEZG1ItVWv",
        "outputId": "69adb604-48b2-4358-8e26-a66d4076b393"
      },
      "outputs": [
        {
          "output_type": "stream",
          "name": "stdout",
          "text": [
            "graham\n",
            "kramer\n",
            "19\n",
            "Plattsburgh\n"
          ]
        }
      ],
      "source": [
        "#6.1\n",
        "#def and print first and last naem with age and city\n",
        "person = {\"first_name\": 'graham', \"last_name\": \"kramer\", \"age\": 19, \"city\": \"Plattsburgh\"}\n",
        "\n",
        "\n",
        "print(person[\"first_name\"])\n",
        "print(person[\"last_name\"])\n",
        "print(person[\"age\"])\n",
        "print(person[\"city\"])"
      ]
    },
    {
      "cell_type": "code",
      "source": [
        "#6.2\n",
        "#variable fav num =\n",
        "fav_num = {\"gerald\": 42, \"robert\": 8, \"jeb\": 19, \"eric\": 77, \"kyle\": 23}\n",
        "\n",
        "num = fav_num['gerald']\n",
        "print(f\"Gerald's favorite number is {num}\")\n",
        "\n",
        "num = fav_num['robert']\n",
        "print(f\"Robert's favorite number is {num}\")\n",
        "\n",
        "num = fav_num['jeb']\n",
        "print(f\"Jeb's favorite number is {num}\")\n",
        "\n",
        "num = fav_num['eric']\n",
        "print(f\"Eric's favorite number is {num}\")\n",
        "\n",
        "num = fav_num['kyle']\n",
        "print(f\"Kyle's favorite number is {num}\")"
      ],
      "metadata": {
        "colab": {
          "base_uri": "https://localhost:8080/"
        },
        "id": "9miFPhRvuN91",
        "outputId": "49e1c57f-4b2e-4645-8ff7-03542df83f9f"
      },
      "execution_count": null,
      "outputs": [
        {
          "output_type": "stream",
          "name": "stdout",
          "text": [
            "Gerald's favorite number is 42\n",
            "Robert's favorite number is 8\n",
            "Jeb's favorite number is 19\n",
            "Eric's favorite number is 77\n",
            "Kyle's favorite number is 23\n"
          ]
        }
      ]
    },
    {
      "cell_type": "code",
      "source": [
        "#6.3\n",
        "glossary = {'comment':\"a note left by the programmer\", 'tuple':\"ordered sequence of values\", \"loop\": \"sequence that is repeated until a certain instance is met\", \"string\": \" a sequence of characters or text\", \"constant\": \" a non-changing value\"}\n",
        "\n",
        "\n",
        "program_word = ('comment')\n",
        "print(f\"\\n{program_word}\")\n",
        "print({glossary[program_word]})\n",
        "\n",
        "program_word = ('tuple')\n",
        "print(f\"\\n{program_word}\")\n",
        "print({glossary[program_word]})\n",
        "\n",
        "program_word = ('loop')\n",
        "print(f\"\\n{program_word}\")\n",
        "print({glossary[program_word]})\n",
        "\n",
        "program_word = ('string')\n",
        "print(f\"\\n{program_word}\")\n",
        "print({glossary[program_word]})\n",
        "\n",
        "program_word = ('constant')\n",
        "print(f\"\\n{program_word}\")\n",
        "print({glossary[program_word]})"
      ],
      "metadata": {
        "colab": {
          "base_uri": "https://localhost:8080/"
        },
        "id": "0XL85QqKu8D2",
        "outputId": "a99cfd50-de66-4726-b275-bbaa661f624a"
      },
      "execution_count": null,
      "outputs": [
        {
          "output_type": "stream",
          "name": "stdout",
          "text": [
            "\n",
            "comment\n",
            "{'a note left by the programmer'}\n",
            "\n",
            "tuple\n",
            "{'ordered sequence of values'}\n",
            "\n",
            "loop\n",
            "{'sequence that is repeated until a certain instance is met'}\n",
            "\n",
            "string\n",
            "{' a sequence of characters or text'}\n",
            "\n",
            "constant\n",
            "{' a non-changing value'}\n"
          ]
        }
      ]
    },
    {
      "cell_type": "code",
      "source": [
        "#6.4\n",
        "#define glossary\n",
        "glossary = {'comment':\"a note left by the programmer\",  'tuple':\"ordered sequence of values\",\n",
        "            \"loop\": \"sequence that is repeated until a certain instance is met\", \"string\": \" a sequence of characters or text\",\n",
        "            \"constant\": \" a non-changing value\", \"float\": \"a number with a decimal\",\n",
        "            \"boolean\": 'evaluates true or false',\"list\": 'an amount of items in a specific order',\n",
        "            \"input\": 'information provided for a program',\"output\": \"information provided from the program\" }\n",
        "#for a word in the glossary provide word and definition of word\n",
        "for program_word, definition in glossary.items():\n",
        "  print(f\"\\n{program_word}: {definition}\")"
      ],
      "metadata": {
        "colab": {
          "base_uri": "https://localhost:8080/"
        },
        "id": "jwmXBUVMu-Rt",
        "outputId": "e1ba6a9d-d5b9-448b-a48f-bf700f7c95f7"
      },
      "execution_count": null,
      "outputs": [
        {
          "output_type": "stream",
          "name": "stdout",
          "text": [
            "\n",
            "comment: a note left by the programmer\n",
            "\n",
            "tuple: ordered sequence of values\n",
            "\n",
            "loop: sequence that is repeated until a certain instance is met\n",
            "\n",
            "string:  a sequence of characters or text\n",
            "\n",
            "constant:  a non-changing value\n",
            "\n",
            "float: a number with a decimal\n",
            "\n",
            "boolean: evaluates true or false\n",
            "\n",
            "list: an amount of items in a specific order\n",
            "\n",
            "input: information provided for a program\n",
            "\n",
            "output: information provided from the program\n"
          ]
        }
      ]
    },
    {
      "cell_type": "code",
      "source": [
        "#6.11\n",
        "cities = {\"Detroit\":{'country':\"USA\", \"population\":632_464,\"fact\": \"Eminem was born here\" },\n",
        "          \"London\":{'country':\"UK\", \"population\":8_982_000,\"fact\": \"The Big Ben is here\"},\n",
        "          \"Toronto\":{'country':\"Canada\", \"population\":2_930_000 ,\"fact\": \" it is Home of Toronto Maple leafs\"},\n",
        "          }\n",
        "\n",
        "\n",
        "for city, info in cities.items():\n",
        "    country = info['country']\n",
        "    population = info['population']\n",
        "    fact = info['fact']\n",
        "\n",
        "    print(f\"{city} is in {country}.\")\n",
        "    print(f\" It has a population of about {population}.\")\n",
        "    print(f\" the fact about this city is {fact}\")"
      ],
      "metadata": {
        "colab": {
          "base_uri": "https://localhost:8080/"
        },
        "id": "1yQJzyWPzYH-",
        "outputId": "9fce768f-ca3a-4a1f-c773-025e120759aa"
      },
      "execution_count": null,
      "outputs": [
        {
          "output_type": "stream",
          "name": "stdout",
          "text": [
            "Detroit is in USA.\n",
            " It has a population of about 632464.\n",
            " the fact about this city is Eminem was born here\n",
            "London is in UK.\n",
            " It has a population of about 8982000.\n",
            " the fact about this city is The Big Ben is here\n",
            "Toronto is in Canada.\n",
            " It has a population of about 2930000.\n",
            " the fact about this city is  it is Home of Toronto Maple leafs\n"
          ]
        }
      ]
    },
    {
      "cell_type": "code",
      "source": [
        "#make the file name_grade txt and fill with names\n",
        "%%file name_grade.txt\n",
        "\n",
        "Rachel, 7\n",
        "Donald, 8\n",
        "Graham, 9\n",
        "Zach, 2"
      ],
      "metadata": {
        "id": "1mv9xVo359Mi",
        "colab": {
          "base_uri": "https://localhost:8080/"
        },
        "outputId": "6da6b6d5-89d1-40b8-baf3-2e078f4009cc"
      },
      "execution_count": 5,
      "outputs": [
        {
          "output_type": "stream",
          "name": "stdout",
          "text": [
            "Overwriting name_grade.txt\n"
          ]
        }
      ]
    },
    {
      "cell_type": "code",
      "source": [
        "#sets dictionary as empty grades set from 1-10\n",
        "grades = {}\n",
        "#opens a read only file\n",
        "file = open('name_grade.txt', \"r\")\n",
        "#goes through each line\n",
        "for line in file:\n",
        "  index = line.find(' ')\n",
        "  #if there is no more space in the index go to next line\n",
        "  if index == -1:\n",
        "    continue\n",
        "  name = line[:index]\n",
        "  grade_str = line[index+1].rstrip()\n",
        "  #if not valid integer next line\n",
        "  if not grade_str.isdigit():\n",
        "    continue\n",
        "  grade = int(grade_str)\n",
        "  #make name and grade in the dictionary\n",
        "  grades[name] = grade\n",
        "#close file when done\n",
        "file.close()\n",
        "#print the alphabetically sorted names list\n",
        "print(\"Names sorted Alphabetically: \")\n",
        "for name in sorted(grades.keys()):\n",
        "  print(f'{name}: {grades[name]}')\n",
        "\n",
        "#print the fiel from high to low grade using lambda\n",
        "print(\"sorted from highest to lowest grade: \")\n",
        "for name in sorted(grades, key=lambda x: grades[x], reverse=True):\n",
        "  grade = grades[name]\n",
        "  print(f\"{name}: {grade}\")"
      ],
      "metadata": {
        "colab": {
          "base_uri": "https://localhost:8080/"
        },
        "id": "MPU9vSAsTSWH",
        "outputId": "3a84d35b-f268-42fd-d2df-2506d4b120c9"
      },
      "execution_count": 8,
      "outputs": [
        {
          "output_type": "stream",
          "name": "stdout",
          "text": [
            "Names sorted Alphabetically: \n",
            "Donald,: 8\n",
            "Graham,: 9\n",
            "Rachel,: 7\n",
            "Zach,: 2\n",
            "sorted from highest to lowest grade: \n",
            "Graham,: 9\n",
            "Donald,: 8\n",
            "Rachel,: 7\n",
            "Zach,: 2\n"
          ]
        }
      ]
    }
  ]
}